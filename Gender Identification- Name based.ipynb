{
 "cells": [
  {
   "attachments": {},
   "cell_type": "markdown",
   "metadata": {},
   "source": [
    "## Gender Identification Model"
   ]
  },
  {
   "cell_type": "markdown",
   "metadata": {},
   "source": [
    "### Introduction\n",
    "Given that we currently only have 30% of our Fuel Users' gender data. There is an increasing need for establishing the distribution of Male and Female individuals within our customer base. This is for various reasons among them being Public Affairs reporting and grants."
   ]
  },
  {
   "attachments": {},
   "cell_type": "markdown",
   "metadata": {},
   "source": [
    "### Problem Statement\n",
    "#### Given the name, can we identify the gender of the person?"
   ]
  },
  {
   "cell_type": "markdown",
   "metadata": {},
   "source": [
    "### Solution\n",
    "#### The proposed fix for this problem is to build a name-based gender identification system on machine learning. For this project we will limit gender to only ‘Male’ and ‘Female.’ Hence this becomes a binary classification model."
   ]
  },
  {
   "cell_type": "markdown",
   "metadata": {},
   "source": [
    "### Methodology\n",
    "This project follows the below approach:\n",
    "\n",
    "1. Import libraries\n",
    "2. Load the dataset\n",
    "3. Exploratory Analysis and Pre-Transformations\n",
    "4. Encoding the labels\n",
    "5. Count vectorization of predictor text values\n",
    "6. Splitting the dataset into training and testing sets\n",
    "7. Building models; logistic regression, naive Bayes, XGBoost, K-Nearest Neighbors\n",
    "8. Comparison of results of the above models and Choosing Best Model\n",
    "9. Running Model on Genderized Data for Validation\n",
    "10. Compare Predictions with Captured Gender Data\n",
    "11. Build a Merged Training Dataset, Train and Save the Improved Model\n",
    "12. Running Prediction on Entire Customer Profile Data\n",
    "13. Visualize Gender Proportions\n",
    "14. Output Predictions\n",
    "15. Notes"
   ]
  },
  {
   "cell_type": "markdown",
   "metadata": {},
   "source": [
    "#### Import Libraries"
   ]
  },
  {
   "cell_type": "code",
   "execution_count": 1,
   "metadata": {},
   "outputs": [],
   "source": [
    "## libraries\n",
    "\n",
    "import numpy as np\n",
    "import pandas as pd\n",
    "import matplotlib.pyplot as plt\n",
    "import seaborn as sns\n",
    "from wordcloud import WordCloud, STOPWORDS\n",
    "\n",
    "import re\n",
    "import pickle\n",
    "\n",
    "import time"
   ]
  },
  {
   "cell_type": "code",
   "execution_count": 2,
   "metadata": {},
   "outputs": [],
   "source": [
    "# Start the timer\n",
    "start_time = time.time()"
   ]
  },
  {
   "cell_type": "markdown",
   "metadata": {},
   "source": [
    "#### Load Dataset"
   ]
  },
  {
   "cell_type": "code",
   "execution_count": 3,
   "metadata": {},
   "outputs": [],
   "source": [
    "## load the initial Train dataset\n",
    "dt = pd.read_csv(\"../../Njambanene/Tasks/Name_Identification/Feb  Members Spend Analysis  - Active 1 Members.csv\")"
   ]
  },
  {
   "cell_type": "markdown",
   "metadata": {},
   "source": [
    "#### Exploratory Analysis and Pre-Transformations"
   ]
  },
  {
   "cell_type": "code",
   "execution_count": 4,
   "metadata": {},
   "outputs": [
    {
     "data": {
      "text/html": [
       "<div>\n",
       "<style scoped>\n",
       "    .dataframe tbody tr th:only-of-type {\n",
       "        vertical-align: middle;\n",
       "    }\n",
       "\n",
       "    .dataframe tbody tr th {\n",
       "        vertical-align: top;\n",
       "    }\n",
       "\n",
       "    .dataframe thead th {\n",
       "        text-align: right;\n",
       "    }\n",
       "</style>\n",
       "<table border=\"1\" class=\"dataframe\">\n",
       "  <thead>\n",
       "    <tr style=\"text-align: right;\">\n",
       "      <th></th>\n",
       "      <th>Member Name</th>\n",
       "      <th>Gender</th>\n",
       "    </tr>\n",
       "  </thead>\n",
       "  <tbody>\n",
       "    <tr>\n",
       "      <th>0</th>\n",
       "      <td>MUOKI</td>\n",
       "      <td>Male</td>\n",
       "    </tr>\n",
       "    <tr>\n",
       "      <th>1</th>\n",
       "      <td>PEACE</td>\n",
       "      <td>Female</td>\n",
       "    </tr>\n",
       "    <tr>\n",
       "      <th>2</th>\n",
       "      <td>MWIYERIA KANANA</td>\n",
       "      <td>Female</td>\n",
       "    </tr>\n",
       "    <tr>\n",
       "      <th>3</th>\n",
       "      <td>JACKLINE</td>\n",
       "      <td>Female</td>\n",
       "    </tr>\n",
       "    <tr>\n",
       "      <th>4</th>\n",
       "      <td>JANE MUTHONI</td>\n",
       "      <td>Female</td>\n",
       "    </tr>\n",
       "    <tr>\n",
       "      <th>5</th>\n",
       "      <td>JAMES WM</td>\n",
       "      <td>Male</td>\n",
       "    </tr>\n",
       "    <tr>\n",
       "      <th>6</th>\n",
       "      <td>BERNARD OBURA</td>\n",
       "      <td>Male</td>\n",
       "    </tr>\n",
       "    <tr>\n",
       "      <th>7</th>\n",
       "      <td>LUCY</td>\n",
       "      <td>Female</td>\n",
       "    </tr>\n",
       "    <tr>\n",
       "      <th>8</th>\n",
       "      <td>FREDERICK OTIENO</td>\n",
       "      <td>Male</td>\n",
       "    </tr>\n",
       "    <tr>\n",
       "      <th>9</th>\n",
       "      <td>MARY GITAU</td>\n",
       "      <td>Female</td>\n",
       "    </tr>\n",
       "  </tbody>\n",
       "</table>\n",
       "</div>"
      ],
      "text/plain": [
       "        Member Name  Gender\n",
       "0             MUOKI    Male\n",
       "1             PEACE  Female\n",
       "2   MWIYERIA KANANA  Female\n",
       "3          JACKLINE  Female\n",
       "4      JANE MUTHONI  Female\n",
       "5          JAMES WM    Male\n",
       "6     BERNARD OBURA    Male\n",
       "7              LUCY  Female\n",
       "8  FREDERICK OTIENO    Male\n",
       "9        MARY GITAU  Female"
      ]
     },
     "execution_count": 4,
     "metadata": {},
     "output_type": "execute_result"
    }
   ],
   "source": [
    "#### Sample the dataset\n",
    "dt.head(10)"
   ]
  },
  {
   "cell_type": "code",
   "execution_count": 5,
   "metadata": {},
   "outputs": [],
   "source": [
    "## rename column\n",
    "dt = dt.rename(columns={'Member Name': 'Name'})"
   ]
  },
  {
   "cell_type": "code",
   "execution_count": 6,
   "metadata": {},
   "outputs": [
    {
     "name": "stdout",
     "output_type": "stream",
     "text": [
      "Index(['Name', 'Gender'], dtype='object')\n",
      "Name      object\n",
      "Gender    object\n",
      "dtype: object\n"
     ]
    }
   ],
   "source": [
    "## Check data types and attributes\n",
    "print(dt.columns)\n",
    "\n",
    "print(dt.dtypes)"
   ]
  },
  {
   "cell_type": "code",
   "execution_count": 7,
   "metadata": {},
   "outputs": [],
   "source": [
    "def count_one_word_names(name):\n",
    "  \"\"\"Counts the number of names with one word in a list of names.\n",
    "\n",
    "  Args:\n",
    "    names: A list of names.\n",
    "\n",
    "  Returns:\n",
    "    The number of names with one word.\n",
    "  \"\"\"\n",
    "\n",
    "  count = 0\n",
    "  for name in name:\n",
    "    if len(name.split()) == 1:\n",
    "      count += 1\n",
    "  return count\n"
   ]
  },
  {
   "cell_type": "code",
   "execution_count": 8,
   "metadata": {},
   "outputs": [
    {
     "name": "stdout",
     "output_type": "stream",
     "text": [
      "The proportion of one-word names is: 48.07%\n"
     ]
    }
   ],
   "source": [
    "## proportion of one-word names\n",
    "one_word_names = round(count_one_word_names(dt['Name'])/len(dt)*100,2)\n",
    "\n",
    "print(f\"The proportion of one-word names is: {one_word_names}%\")"
   ]
  },
  {
   "cell_type": "code",
   "execution_count": 9,
   "metadata": {},
   "outputs": [],
   "source": [
    "# names = dt['Name'].apply(lambda x: x.lower())"
   ]
  },
  {
   "cell_type": "code",
   "execution_count": 10,
   "metadata": {},
   "outputs": [],
   "source": [
    "## replace col values\n",
    "# dt['Gender'] = dt['Gender'].replace({0:\"M\",1:\"F\"})"
   ]
  },
  {
   "cell_type": "code",
   "execution_count": 11,
   "metadata": {},
   "outputs": [
    {
     "name": "stdout",
     "output_type": "stream",
     "text": [
      "(12874, 2)\n"
     ]
    }
   ],
   "source": [
    "## shape of data\n",
    "print(dt.shape)"
   ]
  },
  {
   "cell_type": "code",
   "execution_count": 12,
   "metadata": {},
   "outputs": [],
   "source": [
    "## Function for Cleaning Names\n",
    "def clean_name(value):\n",
    "    # Convert float values to string\n",
    "    if isinstance(value, float):\n",
    "        value = str(value)\n",
    "\n",
    "    # Remove the pattern and everything after it\n",
    "    pattern = r\"\\b(?:DO NOT|DONT|SAYS|REQUEST|LOCK|NOT|REQUESTED|ACCOUNT|TRANSFER|CUSTOMERS|DONOT|REPORTED|LOST|STOLEN|COOKER|CANISTER|KINDLY|GIVE)\\b.*\"\n",
    "    drop_nonnames = re.sub(pattern, '', value)\n",
    "\n",
    "    # remove 'Customer'\n",
    "    pattern = r\"\\bCUSTOMER|CLIENT\\b\"\n",
    "    drop_identifiernames = re.sub(pattern,'',drop_nonnames)\n",
    "\n",
    "\n",
    "    # Truncate the name to the first three words\n",
    "    words = drop_identifiernames.split()\n",
    "    truncated_words = words[:3]\n",
    "    truncated_name = ' '.join(truncated_words)\n",
    "\n",
    "    # Remove extraneous white spaces using regular expression substitution\n",
    "    dropped_whitespaces = re.sub(r'\\s+', ' ', truncated_name)\n",
    "\n",
    "    # Drop non-name words and remove characters after hyphen, underscore, or brackets\n",
    "    pattern = r\"\\b(?:[^A-Za-z\\s]|(?!^)\\d)\\b|[-_()\\[\\]]\"\n",
    "    names_only = re.sub(pattern, '', dropped_whitespaces)\n",
    "\n",
    "    # Remove special characters (excluding spaces) from the name\n",
    "    pattern = r'[^A-Za-z\\s]'\n",
    "    cleaned_name = re.sub(pattern, '', dropped_whitespaces)\n",
    "\n",
    "    return cleaned_name.strip()\n"
   ]
  },
  {
   "cell_type": "code",
   "execution_count": 13,
   "metadata": {},
   "outputs": [
    {
     "data": {
      "text/html": [
       "<div>\n",
       "<style scoped>\n",
       "    .dataframe tbody tr th:only-of-type {\n",
       "        vertical-align: middle;\n",
       "    }\n",
       "\n",
       "    .dataframe tbody tr th {\n",
       "        vertical-align: top;\n",
       "    }\n",
       "\n",
       "    .dataframe thead th {\n",
       "        text-align: right;\n",
       "    }\n",
       "</style>\n",
       "<table border=\"1\" class=\"dataframe\">\n",
       "  <thead>\n",
       "    <tr style=\"text-align: right;\">\n",
       "      <th></th>\n",
       "      <th>Name</th>\n",
       "      <th>Gender</th>\n",
       "      <th>Cleaned Name</th>\n",
       "    </tr>\n",
       "  </thead>\n",
       "  <tbody>\n",
       "    <tr>\n",
       "      <th>0</th>\n",
       "      <td>MUOKI</td>\n",
       "      <td>Male</td>\n",
       "      <td>MUOKI</td>\n",
       "    </tr>\n",
       "    <tr>\n",
       "      <th>1</th>\n",
       "      <td>PEACE</td>\n",
       "      <td>Female</td>\n",
       "      <td>PEACE</td>\n",
       "    </tr>\n",
       "    <tr>\n",
       "      <th>2</th>\n",
       "      <td>MWIYERIA KANANA</td>\n",
       "      <td>Female</td>\n",
       "      <td>MWIYERIA KANANA</td>\n",
       "    </tr>\n",
       "    <tr>\n",
       "      <th>3</th>\n",
       "      <td>JACKLINE</td>\n",
       "      <td>Female</td>\n",
       "      <td>JACKLINE</td>\n",
       "    </tr>\n",
       "    <tr>\n",
       "      <th>4</th>\n",
       "      <td>JANE MUTHONI</td>\n",
       "      <td>Female</td>\n",
       "      <td>JANE MUTHONI</td>\n",
       "    </tr>\n",
       "  </tbody>\n",
       "</table>\n",
       "</div>"
      ],
      "text/plain": [
       "              Name  Gender     Cleaned Name\n",
       "0            MUOKI    Male            MUOKI\n",
       "1            PEACE  Female            PEACE\n",
       "2  MWIYERIA KANANA  Female  MWIYERIA KANANA\n",
       "3         JACKLINE  Female         JACKLINE\n",
       "4     JANE MUTHONI  Female     JANE MUTHONI"
      ]
     },
     "execution_count": 13,
     "metadata": {},
     "output_type": "execute_result"
    }
   ],
   "source": [
    "# Apply the clean function to the 'Name' column\n",
    "dt['Cleaned Name'] = dt['Name'].apply(clean_name)#apply(convert_float_and_remove_numbers).apply(truncate_drop_and_clean)\n",
    "dt.head()"
   ]
  },
  {
   "cell_type": "code",
   "execution_count": 14,
   "metadata": {},
   "outputs": [
    {
     "name": "stdout",
     "output_type": "stream",
     "text": [
      "7807\n"
     ]
    }
   ],
   "source": [
    "## unique names \n",
    "print(len(dt['Cleaned Name'].unique()))"
   ]
  },
  {
   "cell_type": "code",
   "execution_count": 15,
   "metadata": {},
   "outputs": [
    {
     "data": {
      "image/png": "[encoded data removed]",
      "text/plain": [
       "<Figure size 640x480 with 1 Axes>"
      ]
     },
     "metadata": {},
     "output_type": "display_data"
    }
   ],
   "source": [
    "## plot for male and female names in the data\n",
    "import seaborn as sns\n",
    "import matplotlib.pyplot as plt\n",
    "\n",
    "# Create the countplot\n",
    "ax = sns.countplot(x='Gender', data=dt)\n",
    "\n",
    "# Calculate the proportions for each category\n",
    "total = len(dt)\n",
    "counts = dt['Gender'].value_counts()\n",
    "proportions = counts / total\n",
    "\n",
    "# Sort the counts and proportions in descending order\n",
    "sorted_counts = counts.sort_values(ascending=True)\n",
    "sorted_proportions = proportions.loc[sorted_counts.index]\n",
    "\n",
    "\n",
    "# Add the proportions as annotations\n",
    "for i, p in enumerate(ax.patches):\n",
    "    x = p.get_x() + p.get_width() / 2\n",
    "    y = p.get_height()\n",
    "    label = f\"{sorted_proportions[i]:.2%}\"\n",
    "    ax.annotate(label, (x, y), ha='center', va='bottom')\n",
    "\n",
    "sns.countplot(x='Gender', data=dt)\n",
    "plt.title('No of male and female names in the dataset')\n",
    "plt.xticks([0,1],('Female','Male'))\n",
    "plt.show()"
   ]
  },
  {
   "cell_type": "code",
   "execution_count": 16,
   "metadata": {},
   "outputs": [
    {
     "name": "stdout",
     "output_type": "stream",
     "text": [
      "{'A': 796, 'B': 464, 'C': 726, 'D': 603, 'E': 982, 'F': 434, 'G': 431, 'H': 249, 'I': 178, 'J': 1677, 'K': 325, 'L': 579, 'M': 1642, 'N': 463, 'O': 62, 'P': 753, 'Q': 8, 'R': 577, 'S': 987, 'T': 276, 'U': 4, 'V': 266, 'W': 334, 'X': 0, 'Y': 21, 'Z': 37}\n"
     ]
    }
   ],
   "source": [
    "## analyze starting letters of names\n",
    "alphabets= ['A','B','C','D','E','F','G','H','I','J','K','L','M','N','O','P',\n",
    "\n",
    "            'Q','R','S','T','U','V','W','X','Y','Z']\n",
    "\n",
    "startletter_count = {}\n",
    "\n",
    "for i in alphabets:\n",
    "\n",
    "    startletter_count[i] = len(dt[dt['Name'].str.startswith(i)])\n",
    "\n",
    "print(startletter_count)"
   ]
  },
  {
   "cell_type": "code",
   "execution_count": 17,
   "metadata": {},
   "outputs": [
    {
     "data": {
      "text/plain": [
       "Text(0.5, 1.0, 'Number of names starting with each letter')"
      ]
     },
     "execution_count": 17,
     "metadata": {},
     "output_type": "execute_result"
    },
    {
     "data": {
      "image/png": "[encoded data removed]",
      "text/plain": [
       "<Figure size 1600x800 with 1 Axes>"
      ]
     },
     "metadata": {},
     "output_type": "display_data"
    }
   ],
   "source": [
    "## visualize starting letters\n",
    "plt.figure(figsize = (16,8))\n",
    "\n",
    "plt.bar(startletter_count.keys(),startletter_count.values())\n",
    "\n",
    "plt.xlabel('Starting alphabet')\n",
    "\n",
    "plt.ylabel('No. of names')\n",
    "\n",
    "plt.title('Number of names starting with each letter')"
   ]
  },
  {
   "cell_type": "code",
   "execution_count": 18,
   "metadata": {},
   "outputs": [
    {
     "name": "stdout",
     "output_type": "stream",
     "text": [
      "The 5 most common starting letters are :  ('J', 1677) ('M', 1642) ('S', 987) ('E', 982) ('A', 796)\n"
     ]
    }
   ],
   "source": [
    "## check most common starting alphabets\n",
    "print('The 5 most common starting letters are : ', *sorted (startletter_count.items(),key=lambda item: item[1])[-5:][::-1])"
   ]
  },
  {
   "cell_type": "code",
   "execution_count": 19,
   "metadata": {},
   "outputs": [
    {
     "name": "stdout",
     "output_type": "stream",
     "text": [
      "{'a': 2, 'b': 0, 'c': 0, 'd': 0, 'e': 0, 'f': 0, 'g': 0, 'h': 0, 'i': 2, 'j': 0, 'k': 0, 'l': 0, 'm': 0, 'n': 0, 'o': 2, 'p': 0, 'q': 0, 'r': 0, 's': 0, 't': 0, 'u': 5, 'v': 0, 'x': 0, 'y': 0, 'z': 0}\n"
     ]
    }
   ],
   "source": [
    "## analyze ending letters of names\n",
    "small_alphabets = ['a','b','c','d','e','f','g','h',\n",
    "\n",
    "                   'i','j','k','l','m','n','o','p','q','r','s','t','u','v','x','y','z']\n",
    "\n",
    "endletter_count ={}\n",
    "\n",
    "for i in small_alphabets:\n",
    "    endletter_count[i] = len(dt[dt['Name'].str.endswith(i)])\n",
    "\n",
    "print(endletter_count)"
   ]
  },
  {
   "cell_type": "code",
   "execution_count": 20,
   "metadata": {},
   "outputs": [
    {
     "data": {
      "text/plain": [
       "Text(0.5, 1.0, 'Number of names ending with each letter')"
      ]
     },
     "execution_count": 20,
     "metadata": {},
     "output_type": "execute_result"
    },
    {
     "data": {
      "image/png": "[encoded data removed]",
      "text/plain": [
       "<Figure size 1600x800 with 1 Axes>"
      ]
     },
     "metadata": {},
     "output_type": "display_data"
    }
   ],
   "source": [
    "plt.figure(figsize = (16,8))\n",
    "\n",
    "plt.bar(endletter_count.keys(),endletter_count.values())\n",
    "\n",
    "plt.xlabel('Ending alphabet')\n",
    "\n",
    "plt.ylabel('No. of names')\n",
    "\n",
    "plt.title('Number of names ending with each letter')"
   ]
  },
  {
   "cell_type": "code",
   "execution_count": 21,
   "metadata": {},
   "outputs": [
    {
     "name": "stdout",
     "output_type": "stream",
     "text": [
      "The 5 most name ending letters are :  ('u', 5) ('o', 2) ('i', 2) ('a', 2) ('z', 0)\n"
     ]
    }
   ],
   "source": [
    "## most common name ending letters\n",
    "print(\"The 5 most name ending letters are : \",*sorted(endletter_count.items(),\n",
    "                                                      key=lambda item: item[1])[-5:][::-1])"
   ]
  },
  {
   "cell_type": "code",
   "execution_count": 22,
   "metadata": {},
   "outputs": [
    {
     "data": {
      "image/png": "[encoded data removed]",
      "text/plain": [
       "<Figure size 640x480 with 1 Axes>"
      ]
     },
     "metadata": {},
     "output_type": "display_data"
    }
   ],
   "source": [
    "# building a word cloud\n",
    "\n",
    "text =  \" \".join(i for i in dt.Name)\n",
    "\n",
    "word_cloud = WordCloud(\n",
    "\n",
    "        width=3000,\n",
    "\n",
    "        height=2000,\n",
    "\n",
    "        random_state=1,\n",
    "\n",
    "        background_color=\"white\",\n",
    "\n",
    "        colormap=\"BuPu\",\n",
    "\n",
    "        collocations=False,\n",
    "        stopwords= STOPWORDS,\n",
    "\n",
    "        ).generate(text)\n",
    "\n",
    "plt.imshow(word_cloud)\n",
    "\n",
    "plt.axis(\"off\")    \n",
    "\n",
    "plt.show()"
   ]
  },
  {
   "cell_type": "code",
   "execution_count": 23,
   "metadata": {},
   "outputs": [],
   "source": [
    "## build model\n",
    "X = list(dt['Cleaned Name'])\n",
    "Y = list(dt['Gender'])"
   ]
  },
  {
   "cell_type": "code",
   "execution_count": 24,
   "metadata": {},
   "outputs": [
    {
     "data": {
      "text/plain": [
       "'Male'"
      ]
     },
     "execution_count": 24,
     "metadata": {},
     "output_type": "execute_result"
    }
   ],
   "source": [
    "Y[0]"
   ]
  },
  {
   "cell_type": "markdown",
   "metadata": {},
   "source": [
    "##### Concepts Definitions\n",
    "1. Label Encoding: This refers to the process of converting categorical labels into numeric labels. Here each categorical label is given a specific value based on its alphabetical ordering.\n",
    "\n",
    "2. Count Vectorization: Count vectorization is the process where all the words in the corpus are converted into numerical data based on their frequency in the corpus. It converts textual data into a sparse matrix."
   ]
  },
  {
   "cell_type": "markdown",
   "metadata": {},
   "source": [
    "#### Encode Labels"
   ]
  },
  {
   "cell_type": "code",
   "execution_count": 25,
   "metadata": {},
   "outputs": [],
   "source": [
    "## encode the labels\n",
    "from sklearn.preprocessing import LabelEncoder\n",
    "encoder = LabelEncoder()\n",
    "Y = encoder.fit_transform(Y)"
   ]
  },
  {
   "cell_type": "markdown",
   "metadata": {},
   "source": [
    "#### Count Vectorization"
   ]
  },
  {
   "cell_type": "code",
   "execution_count": 26,
   "metadata": {},
   "outputs": [],
   "source": [
    "## count vectorization\n",
    "from sklearn.feature_extraction.text import CountVectorizer\n",
    "cv = CountVectorizer(analyzer = 'char')\n",
    "X = cv.fit_transform(X).toarray()\n",
    "\n"
   ]
  },
  {
   "cell_type": "markdown",
   "metadata": {},
   "source": [
    "#### Split Dataset into Train & Test"
   ]
  },
  {
   "cell_type": "code",
   "execution_count": 27,
   "metadata": {},
   "outputs": [],
   "source": [
    "## split the dataset\n",
    "from sklearn.model_selection import train_test_split\n",
    "x_train, x_test, y_train, y_test = train_test_split(X,Y, test_size=0.33, random_state= 42)"
   ]
  },
  {
   "cell_type": "markdown",
   "metadata": {},
   "source": [
    "#### Build Models"
   ]
  },
  {
   "cell_type": "code",
   "execution_count": 28,
   "metadata": {},
   "outputs": [],
   "source": [
    "## logistic regression\n",
    "from sklearn.linear_model import LogisticRegression\n",
    "LR_model = LogisticRegression()\n",
    "LR_model.fit(x_train, y_train)\n",
    "LR_y_pred = LR_model.predict(x_test)"
   ]
  },
  {
   "cell_type": "code",
   "execution_count": 29,
   "metadata": {},
   "outputs": [],
   "source": [
    "## Naive Bayes\n",
    "from sklearn.naive_bayes import MultinomialNB\n",
    "NB_model = MultinomialNB()\n",
    "NB_model.fit(x_train, y_train)\n",
    "NB_y_pred = NB_model.predict(x_test)"
   ]
  },
  {
   "cell_type": "code",
   "execution_count": 30,
   "metadata": {},
   "outputs": [],
   "source": [
    "## random forest\n",
    "from sklearn.ensemble import RandomForestClassifier\n",
    "\n",
    "# Create a Random Forest model\n",
    "RF_model = RandomForestClassifier(random_state=42)\n",
    "RF_model.fit(x_train, y_train)\n",
    "RF_y_pred = RF_model.predict(x_test)\n"
   ]
  },
  {
   "cell_type": "code",
   "execution_count": 31,
   "metadata": {},
   "outputs": [],
   "source": [
    "## K Nearest Neighbors\n",
    "from sklearn.neighbors import KNeighborsClassifier\n",
    "from sklearn.preprocessing import StandardScaler\n",
    "\n",
    "# Create an instance of the KNN classifier\n",
    "knn_model = KNeighborsClassifier(n_neighbors=5)\n",
    "\n",
    "# Fit the KNN model\n",
    "knn_model.fit(x_train, y_train)\n",
    "knn_y_pred = knn_model.predict(x_test)\n"
   ]
  },
  {
   "cell_type": "code",
   "execution_count": 32,
   "metadata": {},
   "outputs": [],
   "source": [
    "## preview prediction output\n",
    "# df_predictions2 = pd.DataFrame({'Name': dt.loc[range(len(x_test)),'Name'], 'Predicted_Gender': encoder.inverse_transform(knn_y_pred)})\n",
    "# df_predictions2.head()"
   ]
  },
  {
   "cell_type": "code",
   "execution_count": 33,
   "metadata": {},
   "outputs": [],
   "source": [
    "## XGBoost\n",
    "from xgboost import XGBClassifier\n",
    "\n",
    "\n",
    "# Define the seed\n",
    "seed = 42\n",
    "\n",
    "XGB_model = XGBClassifier(random_state= seed) #use_label_encoder = False\n",
    "XGB_model.fit(x_train,y_train)\n",
    "XGB_y_pred = XGB_model.predict(x_test)\n"
   ]
  },
  {
   "cell_type": "code",
   "execution_count": 34,
   "metadata": {},
   "outputs": [
    {
     "data": {
      "text/html": [
       "<div>\n",
       "<style scoped>\n",
       "    .dataframe tbody tr th:only-of-type {\n",
       "        vertical-align: middle;\n",
       "    }\n",
       "\n",
       "    .dataframe tbody tr th {\n",
       "        vertical-align: top;\n",
       "    }\n",
       "\n",
       "    .dataframe thead th {\n",
       "        text-align: right;\n",
       "    }\n",
       "</style>\n",
       "<table border=\"1\" class=\"dataframe\">\n",
       "  <thead>\n",
       "    <tr style=\"text-align: right;\">\n",
       "      <th></th>\n",
       "      <th>Cleaned Name</th>\n",
       "      <th>Predicted_Gender</th>\n",
       "    </tr>\n",
       "  </thead>\n",
       "  <tbody>\n",
       "    <tr>\n",
       "      <th>0</th>\n",
       "      <td>MUOKI</td>\n",
       "      <td>Male</td>\n",
       "    </tr>\n",
       "    <tr>\n",
       "      <th>1</th>\n",
       "      <td>PEACE</td>\n",
       "      <td>Female</td>\n",
       "    </tr>\n",
       "    <tr>\n",
       "      <th>2</th>\n",
       "      <td>MWIYERIA KANANA</td>\n",
       "      <td>Male</td>\n",
       "    </tr>\n",
       "    <tr>\n",
       "      <th>3</th>\n",
       "      <td>JACKLINE</td>\n",
       "      <td>Female</td>\n",
       "    </tr>\n",
       "    <tr>\n",
       "      <th>4</th>\n",
       "      <td>JANE MUTHONI</td>\n",
       "      <td>Female</td>\n",
       "    </tr>\n",
       "  </tbody>\n",
       "</table>\n",
       "</div>"
      ],
      "text/plain": [
       "      Cleaned Name Predicted_Gender\n",
       "0            MUOKI             Male\n",
       "1            PEACE           Female\n",
       "2  MWIYERIA KANANA             Male\n",
       "3         JACKLINE           Female\n",
       "4     JANE MUTHONI           Female"
      ]
     },
     "execution_count": 34,
     "metadata": {},
     "output_type": "execute_result"
    }
   ],
   "source": [
    "## preview prediction output\n",
    "\n",
    "RF_y_pred = RF_y_pred.tolist()\n",
    "df_predictions = pd.DataFrame({'Cleaned Name': dt.loc[range(len(x_test)), 'Cleaned Name'], 'Predicted_Gender': encoder.inverse_transform(RF_y_pred)})\n",
    "df_predictions.head()"
   ]
  },
  {
   "cell_type": "markdown",
   "metadata": {},
   "source": [
    "#### Comparison of Performance"
   ]
  },
  {
   "cell_type": "code",
   "execution_count": 35,
   "metadata": {},
   "outputs": [],
   "source": [
    "\n",
    "### function for confusion matrix\n",
    "from sklearn.metrics import confusion_matrix\n",
    "def cmatrix(model):\n",
    "    y_pred = model.predict(x_test)\n",
    "    cmatrix = confusion_matrix(y_test,y_pred)\n",
    "    print(cmatrix)\n",
    "    sns.heatmap(cmatrix,fmt = 'd',cmap='BuPu', annot=True)\n",
    "    plt.xlabel('Predicted Values')\n",
    "    plt.ylabel('Actual Values')\n",
    "    plt.title('Confusion Matrix')"
   ]
  },
  {
   "cell_type": "code",
   "execution_count": 36,
   "metadata": {},
   "outputs": [
    {
     "name": "stdout",
     "output_type": "stream",
     "text": [
      "Accuracy: 71.55%\n",
      "              precision    recall  f1-score   support\n",
      "\n",
      "           0       0.73      0.83      0.78      2564\n",
      "           1       0.68      0.54      0.60      1685\n",
      "\n",
      "    accuracy                           0.72      4249\n",
      "   macro avg       0.71      0.68      0.69      4249\n",
      "weighted avg       0.71      0.72      0.71      4249\n",
      "\n",
      "[[2138  426]\n",
      " [ 783  902]]\n",
      "None\n"
     ]
    },
    {
     "data": {
      "image/png": "[encoded data removed]",
      "text/plain": [
       "<Figure size 640x480 with 2 Axes>"
      ]
     },
     "metadata": {},
     "output_type": "display_data"
    }
   ],
   "source": [
    "## output\n",
    "import sklearn.metrics as metrics\n",
    "\n",
    "# for logistic regression\n",
    "accuracy = metrics.accuracy_score(LR_y_pred,y_test)\n",
    "print(\"Accuracy: %.2f%%\" % (accuracy*100))\n",
    "\n",
    "print(metrics.classification_report(y_test,LR_y_pred))\n",
    "print(cmatrix(LR_model))"
   ]
  },
  {
   "cell_type": "code",
   "execution_count": 37,
   "metadata": {},
   "outputs": [
    {
     "name": "stdout",
     "output_type": "stream",
     "text": [
      "Accuracy: 67.66%\n",
      "              precision    recall  f1-score   support\n",
      "\n",
      "           0       0.69      0.84      0.76      2564\n",
      "           1       0.64      0.43      0.51      1685\n",
      "\n",
      "    accuracy                           0.68      4249\n",
      "   macro avg       0.66      0.63      0.64      4249\n",
      "weighted avg       0.67      0.68      0.66      4249\n",
      "\n",
      "[[2153  411]\n",
      " [ 963  722]]\n",
      "None\n"
     ]
    },
    {
     "data": {
      "image/png": "[encoded data removed]",
      "text/plain": [
       "<Figure size 640x480 with 2 Axes>"
      ]
     },
     "metadata": {},
     "output_type": "display_data"
    }
   ],
   "source": [
    "# for naive bayes\n",
    "\n",
    "accuracy = metrics.accuracy_score(NB_y_pred,y_test)\n",
    "print(\"Accuracy: %.2f%%\" % (accuracy*100))\n",
    "\n",
    "print(metrics.classification_report(y_test, NB_y_pred))\n",
    "\n",
    "print(cmatrix(NB_model))"
   ]
  },
  {
   "cell_type": "code",
   "execution_count": 38,
   "metadata": {},
   "outputs": [
    {
     "name": "stdout",
     "output_type": "stream",
     "text": [
      "Accuracy: 87.93%\n",
      "              precision    recall  f1-score   support\n",
      "\n",
      "           0       0.88      0.93      0.90      2564\n",
      "           1       0.88      0.80      0.84      1685\n",
      "\n",
      "    accuracy                           0.88      4249\n",
      "   macro avg       0.88      0.87      0.87      4249\n",
      "weighted avg       0.88      0.88      0.88      4249\n",
      "\n",
      "[[2381  183]\n",
      " [ 330 1355]]\n",
      "None\n"
     ]
    },
    {
     "data": {
      "image/png": "[encoded data removed]",
      "text/plain": [
       "<Figure size 640x480 with 2 Axes>"
      ]
     },
     "metadata": {},
     "output_type": "display_data"
    }
   ],
   "source": [
    "# for random forest\n",
    "accuracy = metrics.accuracy_score(RF_y_pred,y_test)\n",
    "\n",
    "print(\"Accuracy: %.2f%%\" % (accuracy*100))\n",
    "\n",
    "print(metrics.classification_report(y_test,RF_y_pred))\n",
    "\n",
    "print(cmatrix(RF_model))"
   ]
  },
  {
   "cell_type": "code",
   "execution_count": 39,
   "metadata": {},
   "outputs": [
    {
     "name": "stdout",
     "output_type": "stream",
     "text": [
      "Accuracy: 84.00%\n",
      "              precision    recall  f1-score   support\n",
      "\n",
      "           0       0.85      0.90      0.87      2564\n",
      "           1       0.83      0.75      0.79      1685\n",
      "\n",
      "    accuracy                           0.84      4249\n",
      "   macro avg       0.84      0.82      0.83      4249\n",
      "weighted avg       0.84      0.84      0.84      4249\n",
      "\n",
      "[[2303  261]\n",
      " [ 419 1266]]\n",
      "None\n"
     ]
    },
    {
     "data": {
      "image/png": "[encoded data removed]",
      "text/plain": [
       "<Figure size 640x480 with 2 Axes>"
      ]
     },
     "metadata": {},
     "output_type": "display_data"
    }
   ],
   "source": [
    "# for knn\n",
    "accuracy = metrics.accuracy_score(knn_y_pred,y_test)\n",
    "\n",
    "print(\"Accuracy: %.2f%%\" % (accuracy*100))\n",
    "\n",
    "print(metrics.classification_report(y_test,knn_y_pred))\n",
    "\n",
    "print(cmatrix(knn_model))"
   ]
  },
  {
   "cell_type": "code",
   "execution_count": 40,
   "metadata": {},
   "outputs": [
    {
     "name": "stdout",
     "output_type": "stream",
     "text": [
      "Accuracy: 86.35%\n",
      "              precision    recall  f1-score   support\n",
      "\n",
      "           0       0.87      0.90      0.89      2564\n",
      "           1       0.84      0.80      0.82      1685\n",
      "\n",
      "    accuracy                           0.86      4249\n",
      "   macro avg       0.86      0.85      0.86      4249\n",
      "weighted avg       0.86      0.86      0.86      4249\n",
      "\n",
      "[[2315  249]\n",
      " [ 331 1354]]\n",
      "None\n"
     ]
    },
    {
     "data": {
      "image/png": "[encoded data removed]",
      "text/plain": [
       "<Figure size 640x480 with 2 Axes>"
      ]
     },
     "metadata": {},
     "output_type": "display_data"
    }
   ],
   "source": [
    "# for XGBoost\n",
    "# print(metrics.accuracy_score(XGB_y_pred,y_test))\n",
    "\n",
    "accuracy = metrics.accuracy_score(XGB_y_pred,y_test)\n",
    "print(\"Accuracy: %.2f%%\" % (accuracy*100))\n",
    "\n",
    "print(metrics.classification_report(y_test, XGB_y_pred))\n",
    "\n",
    "print(cmatrix(XGB_model))"
   ]
  },
  {
   "attachments": {},
   "cell_type": "markdown",
   "metadata": {},
   "source": [
    "#### Choosen Model"
   ]
  },
  {
   "cell_type": "code",
   "execution_count": 41,
   "metadata": {},
   "outputs": [],
   "source": [
    "import joblib\n",
    "# Create a Random Forest model and save it then call\n",
    "\n",
    "# Define the seed\n",
    "seed = 42\n",
    "\n",
    "RF_model = RandomForestClassifier(random_state=seed)\n",
    "RF_model.fit(x_train, y_train)\n",
    "\n",
    "# Save the model to a file\n",
    "joblib.dump(RF_model, 'rf_model.pkl')\n",
    "\n",
    "# Load the model from the file\n",
    "loaded_rf_model = joblib.load('rf_model.pkl')\n",
    "\n",
    "# Make predictions using the ensemble model\n",
    "RF_y_pred = loaded_rf_model.predict(x_test)\n",
    "\n",
    "# RF_y_pred = RF_model.predict(x_test)"
   ]
  },
  {
   "cell_type": "code",
   "execution_count": 42,
   "metadata": {},
   "outputs": [
    {
     "data": {
      "text/html": [
       "<div>\n",
       "<style scoped>\n",
       "    .dataframe tbody tr th:only-of-type {\n",
       "        vertical-align: middle;\n",
       "    }\n",
       "\n",
       "    .dataframe tbody tr th {\n",
       "        vertical-align: top;\n",
       "    }\n",
       "\n",
       "    .dataframe thead th {\n",
       "        text-align: right;\n",
       "    }\n",
       "</style>\n",
       "<table border=\"1\" class=\"dataframe\">\n",
       "  <thead>\n",
       "    <tr style=\"text-align: right;\">\n",
       "      <th></th>\n",
       "      <th>Cleaned Name</th>\n",
       "      <th>Predicted_Gender</th>\n",
       "    </tr>\n",
       "  </thead>\n",
       "  <tbody>\n",
       "    <tr>\n",
       "      <th>0</th>\n",
       "      <td>MUOKI</td>\n",
       "      <td>Male</td>\n",
       "    </tr>\n",
       "    <tr>\n",
       "      <th>1</th>\n",
       "      <td>PEACE</td>\n",
       "      <td>Female</td>\n",
       "    </tr>\n",
       "    <tr>\n",
       "      <th>2</th>\n",
       "      <td>MWIYERIA KANANA</td>\n",
       "      <td>Male</td>\n",
       "    </tr>\n",
       "    <tr>\n",
       "      <th>3</th>\n",
       "      <td>JACKLINE</td>\n",
       "      <td>Female</td>\n",
       "    </tr>\n",
       "    <tr>\n",
       "      <th>4</th>\n",
       "      <td>JANE MUTHONI</td>\n",
       "      <td>Female</td>\n",
       "    </tr>\n",
       "  </tbody>\n",
       "</table>\n",
       "</div>"
      ],
      "text/plain": [
       "      Cleaned Name Predicted_Gender\n",
       "0            MUOKI             Male\n",
       "1            PEACE           Female\n",
       "2  MWIYERIA KANANA             Male\n",
       "3         JACKLINE           Female\n",
       "4     JANE MUTHONI           Female"
      ]
     },
     "execution_count": 42,
     "metadata": {},
     "output_type": "execute_result"
    }
   ],
   "source": [
    "## preview prediction output\n",
    "\n",
    "RF_y_pred = RF_y_pred.tolist()\n",
    "dt_predictions = pd.DataFrame({'Cleaned Name': dt.loc[range(len(x_test)), 'Name'], 'Predicted_Gender': encoder.inverse_transform(RF_y_pred)})\n",
    "dt_predictions.head()"
   ]
  },
  {
   "cell_type": "code",
   "execution_count": 43,
   "metadata": {},
   "outputs": [
    {
     "data": {
      "text/plain": [
       "(4249, 2)"
      ]
     },
     "execution_count": 43,
     "metadata": {},
     "output_type": "execute_result"
    }
   ],
   "source": [
    "dt_predictions.shape"
   ]
  },
  {
   "cell_type": "markdown",
   "metadata": {},
   "source": [
    "#### Run predictions on Genderized data for Validation "
   ]
  },
  {
   "cell_type": "code",
   "execution_count": 44,
   "metadata": {},
   "outputs": [],
   "source": [
    "# import os\n",
    "\n",
    "# pydomo_client_id = os.getenv('PYDOMO_CLIENTID')\n",
    "# pydomo_secret = os.getenv('PYDOMO_SECRET')\n",
    "\n"
   ]
  },
  {
   "cell_type": "code",
   "execution_count": 45,
   "metadata": {},
   "outputs": [],
   "source": [
    "## create domo python connection\n",
    "from pydomo import Domo\n",
    "from dotenv import dotenv_values\n",
    "\n",
    "\n",
    "env_values = dotenv_values('.env')\n",
    "\n",
    "domo = Domo(env_values['PYDOMO_CLIENTID'], env_values['PYDOMO_SECRET'])"
   ]
  },
  {
   "cell_type": "code",
   "execution_count": 46,
   "metadata": {},
   "outputs": [
    {
     "data": {
      "text/html": [
       "<div>\n",
       "<style scoped>\n",
       "    .dataframe tbody tr th:only-of-type {\n",
       "        vertical-align: middle;\n",
       "    }\n",
       "\n",
       "    .dataframe tbody tr th {\n",
       "        vertical-align: top;\n",
       "    }\n",
       "\n",
       "    .dataframe thead th {\n",
       "        text-align: right;\n",
       "    }\n",
       "</style>\n",
       "<table border=\"1\" class=\"dataframe\">\n",
       "  <thead>\n",
       "    <tr style=\"text-align: right;\">\n",
       "      <th></th>\n",
       "      <th>customer_id</th>\n",
       "      <th>num_canisters</th>\n",
       "      <th>name</th>\n",
       "      <th>gender</th>\n",
       "      <th>is_club_customer</th>\n",
       "    </tr>\n",
       "  </thead>\n",
       "  <tbody>\n",
       "    <tr>\n",
       "      <th>0</th>\n",
       "      <td>3174531</td>\n",
       "      <td>1</td>\n",
       "      <td>DAMARIS WANGARI</td>\n",
       "      <td>1</td>\n",
       "      <td>0</td>\n",
       "    </tr>\n",
       "    <tr>\n",
       "      <th>1</th>\n",
       "      <td>1111966</td>\n",
       "      <td>1</td>\n",
       "      <td>MARY NGLN</td>\n",
       "      <td>1</td>\n",
       "      <td>0</td>\n",
       "    </tr>\n",
       "    <tr>\n",
       "      <th>2</th>\n",
       "      <td>1249576</td>\n",
       "      <td>1</td>\n",
       "      <td>AMIR</td>\n",
       "      <td>2</td>\n",
       "      <td>0</td>\n",
       "    </tr>\n",
       "    <tr>\n",
       "      <th>3</th>\n",
       "      <td>841007</td>\n",
       "      <td>1</td>\n",
       "      <td>LEAH</td>\n",
       "      <td>1</td>\n",
       "      <td>0</td>\n",
       "    </tr>\n",
       "    <tr>\n",
       "      <th>4</th>\n",
       "      <td>1657921</td>\n",
       "      <td>1</td>\n",
       "      <td>GRACE</td>\n",
       "      <td>1</td>\n",
       "      <td>0</td>\n",
       "    </tr>\n",
       "  </tbody>\n",
       "</table>\n",
       "</div>"
      ],
      "text/plain": [
       "   customer_id  num_canisters             name  gender  is_club_customer\n",
       "0      3174531              1  DAMARIS WANGARI       1                 0\n",
       "1      1111966              1        MARY NGLN       1                 0\n",
       "2      1249576              1             AMIR       2                 0\n",
       "3       841007              1             LEAH       1                 0\n",
       "4      1657921              1            GRACE       1                 0"
      ]
     },
     "execution_count": 46,
     "metadata": {},
     "output_type": "execute_result"
    }
   ],
   "source": [
    "# Download a data set from Domo\n",
    "cust_prof_gender = domo.ds_get('9e6aecb0-9669-4787-894d-43c496b4c928')\n",
    "cust_prof_gender.head()"
   ]
  },
  {
   "cell_type": "code",
   "execution_count": 47,
   "metadata": {},
   "outputs": [],
   "source": [
    "## drop unnecessary columns\n",
    "cust_prof_gender = cust_prof_gender.drop(['num_canisters','is_club_customer'],axis=1)"
   ]
  },
  {
   "cell_type": "code",
   "execution_count": 48,
   "metadata": {},
   "outputs": [
    {
     "data": {
      "text/plain": [
       "Female    0.563862\n",
       "Male      0.436138\n",
       "Name: gender, dtype: float64"
      ]
     },
     "execution_count": 48,
     "metadata": {},
     "output_type": "execute_result"
    }
   ],
   "source": [
    "# Map values from 1 to \"female\" and 2 to \"male\" in the 'Gender' column\n",
    "cust_prof_gender['gender'] = cust_prof_gender['gender'].map({1: 'Female', 2: 'Male'})\n",
    "cust_prof_gender['gender'].value_counts(normalize=True)"
   ]
  },
  {
   "cell_type": "code",
   "execution_count": 49,
   "metadata": {},
   "outputs": [
    {
     "data": {
      "image/png": "[encoded data removed]",
      "text/plain": [
       "<Figure size 640x480 with 1 Axes>"
      ]
     },
     "metadata": {},
     "output_type": "display_data"
    }
   ],
   "source": [
    "## plot for male and female names in the loaded data\n",
    "\n",
    "# Create the countplot\n",
    "ax = sns.countplot(x='gender', data=cust_prof_gender)\n",
    "\n",
    "\n",
    "\n",
    "# Calculate the proportions for each category\n",
    "total = len(cust_prof_gender)\n",
    "counts = cust_prof_gender['gender'].value_counts()\n",
    "proportions = counts / total\n",
    "# Sort the counts and proportions in descending order\n",
    "sorted_counts = counts.sort_values(ascending=False)\n",
    "sorted_proportions = proportions.loc[sorted_counts.index]\n",
    "\n",
    "\n",
    "# Add the proportions as annotations\n",
    "for i, p in enumerate(ax.patches):\n",
    "    x = p.get_x() + p.get_width() / 2\n",
    "    y = p.get_height()\n",
    "    label = f\"{sorted_proportions[i]:.2%}\"\n",
    "    ax.annotate(label, (x, y), ha='center', va='bottom')\n",
    "\n",
    "# Set the title and x-axis tick labels\n",
    "plt.title('No of male and female names in the dataset')\n",
    "plt.xticks(ticks=[0, 1], labels=['Female', 'Male'])\n",
    "\n",
    "# Display the plot\n",
    "plt.show()"
   ]
  },
  {
   "cell_type": "code",
   "execution_count": 50,
   "metadata": {},
   "outputs": [
    {
     "name": "stdout",
     "output_type": "stream",
     "text": [
      "The proportion of one-word-names is: 61.81%\n"
     ]
    }
   ],
   "source": [
    "  ## proportion of one-word names\n",
    "one_word_names2 = round(count_one_word_names(cust_prof_gender['name'])/len(cust_prof_gender)*100,2)\n",
    "\n",
    "print(f\"The proportion of one-word-names is: {one_word_names2}%\")"
   ]
  },
  {
   "cell_type": "code",
   "execution_count": 51,
   "metadata": {},
   "outputs": [
    {
     "data": {
      "text/html": [
       "<div>\n",
       "<style scoped>\n",
       "    .dataframe tbody tr th:only-of-type {\n",
       "        vertical-align: middle;\n",
       "    }\n",
       "\n",
       "    .dataframe tbody tr th {\n",
       "        vertical-align: top;\n",
       "    }\n",
       "\n",
       "    .dataframe thead th {\n",
       "        text-align: right;\n",
       "    }\n",
       "</style>\n",
       "<table border=\"1\" class=\"dataframe\">\n",
       "  <thead>\n",
       "    <tr style=\"text-align: right;\">\n",
       "      <th></th>\n",
       "      <th>customer_id</th>\n",
       "      <th>Name</th>\n",
       "      <th>Gender</th>\n",
       "    </tr>\n",
       "  </thead>\n",
       "  <tbody>\n",
       "    <tr>\n",
       "      <th>0</th>\n",
       "      <td>3174531</td>\n",
       "      <td>DAMARIS WANGARI</td>\n",
       "      <td>Female</td>\n",
       "    </tr>\n",
       "    <tr>\n",
       "      <th>1</th>\n",
       "      <td>1111966</td>\n",
       "      <td>MARY NGLN</td>\n",
       "      <td>Female</td>\n",
       "    </tr>\n",
       "    <tr>\n",
       "      <th>2</th>\n",
       "      <td>1249576</td>\n",
       "      <td>AMIR</td>\n",
       "      <td>Male</td>\n",
       "    </tr>\n",
       "    <tr>\n",
       "      <th>3</th>\n",
       "      <td>841007</td>\n",
       "      <td>LEAH</td>\n",
       "      <td>Female</td>\n",
       "    </tr>\n",
       "    <tr>\n",
       "      <th>4</th>\n",
       "      <td>1657921</td>\n",
       "      <td>GRACE</td>\n",
       "      <td>Female</td>\n",
       "    </tr>\n",
       "  </tbody>\n",
       "</table>\n",
       "</div>"
      ],
      "text/plain": [
       "   customer_id             Name  Gender\n",
       "0      3174531  DAMARIS WANGARI  Female\n",
       "1      1111966        MARY NGLN  Female\n",
       "2      1249576             AMIR    Male\n",
       "3       841007             LEAH  Female\n",
       "4      1657921            GRACE  Female"
      ]
     },
     "execution_count": 51,
     "metadata": {},
     "output_type": "execute_result"
    }
   ],
   "source": [
    "## update dataset to predict\n",
    "# df = pd.read_csv(\"../../Njambanene/Tasks/Name_Identification/Fuel Customers_test.csv\")\n",
    "df = cust_prof_gender\n",
    "## rename col\n",
    "df = df.rename(columns= {'name': 'Name','gender':'Gender'})\n",
    "df.head()"
   ]
  },
  {
   "cell_type": "code",
   "execution_count": 52,
   "metadata": {},
   "outputs": [
    {
     "data": {
      "text/plain": [
       "(255763, 3)"
      ]
     },
     "execution_count": 52,
     "metadata": {},
     "output_type": "execute_result"
    }
   ],
   "source": [
    "## check shape\n",
    "df.shape\n"
   ]
  },
  {
   "cell_type": "code",
   "execution_count": 53,
   "metadata": {},
   "outputs": [
    {
     "data": {
      "text/html": [
       "<div>\n",
       "<style scoped>\n",
       "    .dataframe tbody tr th:only-of-type {\n",
       "        vertical-align: middle;\n",
       "    }\n",
       "\n",
       "    .dataframe tbody tr th {\n",
       "        vertical-align: top;\n",
       "    }\n",
       "\n",
       "    .dataframe thead th {\n",
       "        text-align: right;\n",
       "    }\n",
       "</style>\n",
       "<table border=\"1\" class=\"dataframe\">\n",
       "  <thead>\n",
       "    <tr style=\"text-align: right;\">\n",
       "      <th></th>\n",
       "      <th>customer_id</th>\n",
       "      <th>Name</th>\n",
       "      <th>Gender</th>\n",
       "      <th>Cleaned Name</th>\n",
       "    </tr>\n",
       "  </thead>\n",
       "  <tbody>\n",
       "    <tr>\n",
       "      <th>0</th>\n",
       "      <td>3174531</td>\n",
       "      <td>DAMARIS WANGARI</td>\n",
       "      <td>Female</td>\n",
       "      <td>DAMARIS WANGARI</td>\n",
       "    </tr>\n",
       "    <tr>\n",
       "      <th>1</th>\n",
       "      <td>1111966</td>\n",
       "      <td>MARY NGLN</td>\n",
       "      <td>Female</td>\n",
       "      <td>MARY NGLN</td>\n",
       "    </tr>\n",
       "    <tr>\n",
       "      <th>2</th>\n",
       "      <td>1249576</td>\n",
       "      <td>AMIR</td>\n",
       "      <td>Male</td>\n",
       "      <td>AMIR</td>\n",
       "    </tr>\n",
       "    <tr>\n",
       "      <th>3</th>\n",
       "      <td>841007</td>\n",
       "      <td>LEAH</td>\n",
       "      <td>Female</td>\n",
       "      <td>LEAH</td>\n",
       "    </tr>\n",
       "    <tr>\n",
       "      <th>4</th>\n",
       "      <td>1657921</td>\n",
       "      <td>GRACE</td>\n",
       "      <td>Female</td>\n",
       "      <td>GRACE</td>\n",
       "    </tr>\n",
       "  </tbody>\n",
       "</table>\n",
       "</div>"
      ],
      "text/plain": [
       "   customer_id             Name  Gender     Cleaned Name\n",
       "0      3174531  DAMARIS WANGARI  Female  DAMARIS WANGARI\n",
       "1      1111966        MARY NGLN  Female        MARY NGLN\n",
       "2      1249576             AMIR    Male             AMIR\n",
       "3       841007             LEAH  Female             LEAH\n",
       "4      1657921            GRACE  Female            GRACE"
      ]
     },
     "execution_count": 53,
     "metadata": {},
     "output_type": "execute_result"
    }
   ],
   "source": [
    "# Apply the clean function to the 'Name' column\n",
    "df['Cleaned Name'] = df['Name'].apply(clean_name)#apply(convert_float_and_remove_numbers).apply(truncate_drop_and_clean)\n",
    "df.head()"
   ]
  },
  {
   "cell_type": "code",
   "execution_count": 54,
   "metadata": {},
   "outputs": [],
   "source": [
    "# df = add_name_length_column(df['Cleaned Name']).sort_values(by ='Name Length' ,ascending=False)\n",
    "# df.head(30)"
   ]
  },
  {
   "cell_type": "code",
   "execution_count": 55,
   "metadata": {},
   "outputs": [],
   "source": [
    "## preprocessing transforms\n",
    "df_test = list(df['Cleaned Name'])"
   ]
  },
  {
   "cell_type": "code",
   "execution_count": 56,
   "metadata": {},
   "outputs": [],
   "source": [
    "## vectorization\n",
    "df_test = cv.fit_transform(df_test).toarray()"
   ]
  },
  {
   "cell_type": "code",
   "execution_count": 57,
   "metadata": {},
   "outputs": [],
   "source": [
    "## truncate to train data's number of attributes\n",
    "# num_attributes = X.shape[1]\n",
    "\n",
    "# truncated_array = cv.fit_transform(df_test).toarray()[:, :num_attributes]\n"
   ]
  },
  {
   "cell_type": "code",
   "execution_count": 58,
   "metadata": {},
   "outputs": [
    {
     "name": "stdout",
     "output_type": "stream",
     "text": [
      "Shape of df_test: (255763, 27)\n",
      "Shape of df_train: (12874, 27)\n"
     ]
    }
   ],
   "source": [
    "## check shape of training vs test data\n",
    "# df_test = truncated_array\n",
    "print(\"Shape of df_test:\", df_test.shape)\n",
    "# print(\"Shape of truncated_array:\", truncated_array.shape)\n",
    "\n",
    "print(\"Shape of df_train:\", X.shape)"
   ]
  },
  {
   "cell_type": "code",
   "execution_count": 59,
   "metadata": {},
   "outputs": [],
   "source": [
    "## load and run saved model\n",
    "\n",
    "\n",
    "# Load the model from the file\n",
    "loaded_rf_model = joblib.load('rf_model.pkl')\n",
    "\n",
    "# Make predictions using the ensemble model\n",
    "RF_y_pred = loaded_rf_model.predict(x_test)\n",
    "\n",
    "\n",
    "predictions = loaded_rf_model.predict(df_test)\n"
   ]
  },
  {
   "cell_type": "code",
   "execution_count": 60,
   "metadata": {},
   "outputs": [
    {
     "data": {
      "text/html": [
       "<div>\n",
       "<style scoped>\n",
       "    .dataframe tbody tr th:only-of-type {\n",
       "        vertical-align: middle;\n",
       "    }\n",
       "\n",
       "    .dataframe tbody tr th {\n",
       "        vertical-align: top;\n",
       "    }\n",
       "\n",
       "    .dataframe thead th {\n",
       "        text-align: right;\n",
       "    }\n",
       "</style>\n",
       "<table border=\"1\" class=\"dataframe\">\n",
       "  <thead>\n",
       "    <tr style=\"text-align: right;\">\n",
       "      <th></th>\n",
       "      <th>customer_id</th>\n",
       "      <th>Cleaned Name</th>\n",
       "      <th>Predicted_Gender</th>\n",
       "    </tr>\n",
       "  </thead>\n",
       "  <tbody>\n",
       "    <tr>\n",
       "      <th>0</th>\n",
       "      <td>3174531</td>\n",
       "      <td>DAMARIS WANGARI</td>\n",
       "      <td>Female</td>\n",
       "    </tr>\n",
       "    <tr>\n",
       "      <th>1</th>\n",
       "      <td>1111966</td>\n",
       "      <td>MARY NGLN</td>\n",
       "      <td>Female</td>\n",
       "    </tr>\n",
       "    <tr>\n",
       "      <th>2</th>\n",
       "      <td>1249576</td>\n",
       "      <td>AMIR</td>\n",
       "      <td>Male</td>\n",
       "    </tr>\n",
       "    <tr>\n",
       "      <th>3</th>\n",
       "      <td>841007</td>\n",
       "      <td>LEAH</td>\n",
       "      <td>Female</td>\n",
       "    </tr>\n",
       "    <tr>\n",
       "      <th>4</th>\n",
       "      <td>1657921</td>\n",
       "      <td>GRACE</td>\n",
       "      <td>Female</td>\n",
       "    </tr>\n",
       "  </tbody>\n",
       "</table>\n",
       "</div>"
      ],
      "text/plain": [
       "   customer_id     Cleaned Name Predicted_Gender\n",
       "0      3174531  DAMARIS WANGARI           Female\n",
       "1      1111966        MARY NGLN           Female\n",
       "2      1249576             AMIR             Male\n",
       "3       841007             LEAH           Female\n",
       "4      1657921            GRACE           Female"
      ]
     },
     "execution_count": 60,
     "metadata": {},
     "output_type": "execute_result"
    }
   ],
   "source": [
    "## preview prediction output\n",
    "\n",
    "predictions = predictions.tolist()\n",
    "cust_prof_gender_predictions = pd.DataFrame({'customer_id': df['customer_id'],'Cleaned Name': df.loc[range(len(df_test)), 'Cleaned Name'], 'Predicted_Gender': encoder.inverse_transform(predictions)})\n",
    "cust_prof_gender_predictions.head()"
   ]
  },
  {
   "cell_type": "code",
   "execution_count": 61,
   "metadata": {},
   "outputs": [
    {
     "data": {
      "text/plain": [
       "(255763, 3)"
      ]
     },
     "execution_count": 61,
     "metadata": {},
     "output_type": "execute_result"
    }
   ],
   "source": [
    "cust_prof_gender_predictions.shape"
   ]
  },
  {
   "cell_type": "code",
   "execution_count": 62,
   "metadata": {},
   "outputs": [
    {
     "data": {
      "text/html": [
       "<div>\n",
       "<style scoped>\n",
       "    .dataframe tbody tr th:only-of-type {\n",
       "        vertical-align: middle;\n",
       "    }\n",
       "\n",
       "    .dataframe tbody tr th {\n",
       "        vertical-align: top;\n",
       "    }\n",
       "\n",
       "    .dataframe thead th {\n",
       "        text-align: right;\n",
       "    }\n",
       "</style>\n",
       "<table border=\"1\" class=\"dataframe\">\n",
       "  <thead>\n",
       "    <tr style=\"text-align: right;\">\n",
       "      <th></th>\n",
       "      <th>customer_id_x</th>\n",
       "      <th>Name</th>\n",
       "      <th>Gender</th>\n",
       "      <th>Cleaned Name_x</th>\n",
       "      <th>customer_id_y</th>\n",
       "      <th>Cleaned Name_y</th>\n",
       "      <th>Predicted_Gender</th>\n",
       "    </tr>\n",
       "  </thead>\n",
       "  <tbody>\n",
       "    <tr>\n",
       "      <th>0</th>\n",
       "      <td>3174531</td>\n",
       "      <td>DAMARIS WANGARI</td>\n",
       "      <td>Female</td>\n",
       "      <td>DAMARIS WANGARI</td>\n",
       "      <td>3174531</td>\n",
       "      <td>DAMARIS WANGARI</td>\n",
       "      <td>Female</td>\n",
       "    </tr>\n",
       "    <tr>\n",
       "      <th>1</th>\n",
       "      <td>1111966</td>\n",
       "      <td>MARY NGLN</td>\n",
       "      <td>Female</td>\n",
       "      <td>MARY NGLN</td>\n",
       "      <td>1111966</td>\n",
       "      <td>MARY NGLN</td>\n",
       "      <td>Female</td>\n",
       "    </tr>\n",
       "    <tr>\n",
       "      <th>2</th>\n",
       "      <td>1249576</td>\n",
       "      <td>AMIR</td>\n",
       "      <td>Male</td>\n",
       "      <td>AMIR</td>\n",
       "      <td>1249576</td>\n",
       "      <td>AMIR</td>\n",
       "      <td>Male</td>\n",
       "    </tr>\n",
       "    <tr>\n",
       "      <th>3</th>\n",
       "      <td>841007</td>\n",
       "      <td>LEAH</td>\n",
       "      <td>Female</td>\n",
       "      <td>LEAH</td>\n",
       "      <td>841007</td>\n",
       "      <td>LEAH</td>\n",
       "      <td>Female</td>\n",
       "    </tr>\n",
       "    <tr>\n",
       "      <th>4</th>\n",
       "      <td>1657921</td>\n",
       "      <td>GRACE</td>\n",
       "      <td>Female</td>\n",
       "      <td>GRACE</td>\n",
       "      <td>1657921</td>\n",
       "      <td>GRACE</td>\n",
       "      <td>Female</td>\n",
       "    </tr>\n",
       "  </tbody>\n",
       "</table>\n",
       "</div>"
      ],
      "text/plain": [
       "   customer_id_x             Name  Gender   Cleaned Name_x  customer_id_y  \\\n",
       "0        3174531  DAMARIS WANGARI  Female  DAMARIS WANGARI        3174531   \n",
       "1        1111966        MARY NGLN  Female        MARY NGLN        1111966   \n",
       "2        1249576             AMIR    Male             AMIR        1249576   \n",
       "3         841007             LEAH  Female             LEAH         841007   \n",
       "4        1657921            GRACE  Female            GRACE        1657921   \n",
       "\n",
       "    Cleaned Name_y Predicted_Gender  \n",
       "0  DAMARIS WANGARI           Female  \n",
       "1        MARY NGLN           Female  \n",
       "2             AMIR             Male  \n",
       "3             LEAH           Female  \n",
       "4            GRACE           Female  "
      ]
     },
     "execution_count": 62,
     "metadata": {},
     "output_type": "execute_result"
    }
   ],
   "source": [
    "## join prediction with original dataset for validations\n",
    "df2 = df.merge(cust_prof_gender_predictions,left_index=True,right_index=True)\n",
    "df2.head()"
   ]
  },
  {
   "cell_type": "markdown",
   "metadata": {},
   "source": [
    "#### Compare Predictions with Captured Gender Data"
   ]
  },
  {
   "cell_type": "code",
   "execution_count": 63,
   "metadata": {},
   "outputs": [
    {
     "data": {
      "text/plain": [
       "(211478, 7)"
      ]
     },
     "execution_count": 63,
     "metadata": {},
     "output_type": "execute_result"
    }
   ],
   "source": [
    "## filter accurate matches\n",
    "matched_mask = df2['Gender'] == df2['Predicted_Gender']\n",
    "matched_rows = df2[matched_mask]\n",
    "\n",
    "matched_rows.shape"
   ]
  },
  {
   "cell_type": "code",
   "execution_count": 64,
   "metadata": {},
   "outputs": [
    {
     "name": "stdout",
     "output_type": "stream",
     "text": [
      "The match percentage is: 82.69%\n"
     ]
    }
   ],
   "source": [
    "## proportion of matches to customer data with Gender\n",
    "match_percentage = round(len(matched_rows)/len(cust_prof_gender)*100,2)\n",
    "\n",
    "print(f\"The match percentage is: {match_percentage}%\")"
   ]
  },
  {
   "cell_type": "code",
   "execution_count": 65,
   "metadata": {},
   "outputs": [
    {
     "data": {
      "text/html": [
       "<div>\n",
       "<style scoped>\n",
       "    .dataframe tbody tr th:only-of-type {\n",
       "        vertical-align: middle;\n",
       "    }\n",
       "\n",
       "    .dataframe tbody tr th {\n",
       "        vertical-align: top;\n",
       "    }\n",
       "\n",
       "    .dataframe thead th {\n",
       "        text-align: right;\n",
       "    }\n",
       "</style>\n",
       "<table border=\"1\" class=\"dataframe\">\n",
       "  <thead>\n",
       "    <tr style=\"text-align: right;\">\n",
       "      <th></th>\n",
       "      <th>customer_id_x</th>\n",
       "      <th>Name</th>\n",
       "      <th>Gender</th>\n",
       "      <th>Cleaned Name_x</th>\n",
       "      <th>customer_id_y</th>\n",
       "      <th>Cleaned Name_y</th>\n",
       "      <th>Predicted_Gender</th>\n",
       "    </tr>\n",
       "  </thead>\n",
       "  <tbody>\n",
       "    <tr>\n",
       "      <th>0</th>\n",
       "      <td>3174531</td>\n",
       "      <td>DAMARIS WANGARI</td>\n",
       "      <td>Female</td>\n",
       "      <td>DAMARIS WANGARI</td>\n",
       "      <td>3174531</td>\n",
       "      <td>DAMARIS WANGARI</td>\n",
       "      <td>Female</td>\n",
       "    </tr>\n",
       "    <tr>\n",
       "      <th>1</th>\n",
       "      <td>1111966</td>\n",
       "      <td>MARY NGLN</td>\n",
       "      <td>Female</td>\n",
       "      <td>MARY NGLN</td>\n",
       "      <td>1111966</td>\n",
       "      <td>MARY NGLN</td>\n",
       "      <td>Female</td>\n",
       "    </tr>\n",
       "    <tr>\n",
       "      <th>2</th>\n",
       "      <td>1249576</td>\n",
       "      <td>AMIR</td>\n",
       "      <td>Male</td>\n",
       "      <td>AMIR</td>\n",
       "      <td>1249576</td>\n",
       "      <td>AMIR</td>\n",
       "      <td>Male</td>\n",
       "    </tr>\n",
       "    <tr>\n",
       "      <th>3</th>\n",
       "      <td>841007</td>\n",
       "      <td>LEAH</td>\n",
       "      <td>Female</td>\n",
       "      <td>LEAH</td>\n",
       "      <td>841007</td>\n",
       "      <td>LEAH</td>\n",
       "      <td>Female</td>\n",
       "    </tr>\n",
       "    <tr>\n",
       "      <th>4</th>\n",
       "      <td>1657921</td>\n",
       "      <td>GRACE</td>\n",
       "      <td>Female</td>\n",
       "      <td>GRACE</td>\n",
       "      <td>1657921</td>\n",
       "      <td>GRACE</td>\n",
       "      <td>Female</td>\n",
       "    </tr>\n",
       "  </tbody>\n",
       "</table>\n",
       "</div>"
      ],
      "text/plain": [
       "   customer_id_x             Name  Gender   Cleaned Name_x  customer_id_y  \\\n",
       "0        3174531  DAMARIS WANGARI  Female  DAMARIS WANGARI        3174531   \n",
       "1        1111966        MARY NGLN  Female        MARY NGLN        1111966   \n",
       "2        1249576             AMIR    Male             AMIR        1249576   \n",
       "3         841007             LEAH  Female             LEAH         841007   \n",
       "4        1657921            GRACE  Female            GRACE        1657921   \n",
       "\n",
       "    Cleaned Name_y Predicted_Gender  \n",
       "0  DAMARIS WANGARI           Female  \n",
       "1        MARY NGLN           Female  \n",
       "2             AMIR             Male  \n",
       "3             LEAH           Female  \n",
       "4            GRACE           Female  "
      ]
     },
     "execution_count": 65,
     "metadata": {},
     "output_type": "execute_result"
    }
   ],
   "source": [
    "matched_rows.head()"
   ]
  },
  {
   "cell_type": "code",
   "execution_count": 66,
   "metadata": {},
   "outputs": [
    {
     "data": {
      "text/html": [
       "<div>\n",
       "<style scoped>\n",
       "    .dataframe tbody tr th:only-of-type {\n",
       "        vertical-align: middle;\n",
       "    }\n",
       "\n",
       "    .dataframe tbody tr th {\n",
       "        vertical-align: top;\n",
       "    }\n",
       "\n",
       "    .dataframe thead th {\n",
       "        text-align: right;\n",
       "    }\n",
       "</style>\n",
       "<table border=\"1\" class=\"dataframe\">\n",
       "  <thead>\n",
       "    <tr style=\"text-align: right;\">\n",
       "      <th></th>\n",
       "      <th>customer_id</th>\n",
       "      <th>Cleaned Name</th>\n",
       "      <th>Predicted_Gender</th>\n",
       "    </tr>\n",
       "  </thead>\n",
       "  <tbody>\n",
       "    <tr>\n",
       "      <th>0</th>\n",
       "      <td>3174531</td>\n",
       "      <td>DAMARIS WANGARI</td>\n",
       "      <td>Female</td>\n",
       "    </tr>\n",
       "    <tr>\n",
       "      <th>1</th>\n",
       "      <td>1111966</td>\n",
       "      <td>MARY NGLN</td>\n",
       "      <td>Female</td>\n",
       "    </tr>\n",
       "    <tr>\n",
       "      <th>2</th>\n",
       "      <td>1249576</td>\n",
       "      <td>AMIR</td>\n",
       "      <td>Male</td>\n",
       "    </tr>\n",
       "    <tr>\n",
       "      <th>3</th>\n",
       "      <td>841007</td>\n",
       "      <td>LEAH</td>\n",
       "      <td>Female</td>\n",
       "    </tr>\n",
       "    <tr>\n",
       "      <th>4</th>\n",
       "      <td>1657921</td>\n",
       "      <td>GRACE</td>\n",
       "      <td>Female</td>\n",
       "    </tr>\n",
       "  </tbody>\n",
       "</table>\n",
       "</div>"
      ],
      "text/plain": [
       "   customer_id     Cleaned Name Predicted_Gender\n",
       "0      3174531  DAMARIS WANGARI           Female\n",
       "1      1111966        MARY NGLN           Female\n",
       "2      1249576             AMIR             Male\n",
       "3       841007             LEAH           Female\n",
       "4      1657921            GRACE           Female"
      ]
     },
     "execution_count": 66,
     "metadata": {},
     "output_type": "execute_result"
    }
   ],
   "source": [
    "matched_rows = matched_rows.drop(columns=['Name','Gender','Cleaned Name_x','customer_id_x'], axis=1).rename(columns={'Cleaned Name_y':'Cleaned Name','customer_id_y':'customer_id' })\n",
    "#, 'Predicted_Gender':'Gender'\n",
    "matched_rows.head()"
   ]
  },
  {
   "cell_type": "code",
   "execution_count": 67,
   "metadata": {},
   "outputs": [
    {
     "data": {
      "text/plain": [
       "(211478, 3)"
      ]
     },
     "execution_count": 67,
     "metadata": {},
     "output_type": "execute_result"
    }
   ],
   "source": [
    "matched_rows.shape"
   ]
  },
  {
   "cell_type": "code",
   "execution_count": 68,
   "metadata": {},
   "outputs": [],
   "source": [
    "## duplicate data for storage\n",
    "df_predictions = matched_rows\n",
    "\n"
   ]
  },
  {
   "cell_type": "code",
   "execution_count": 69,
   "metadata": {},
   "outputs": [
    {
     "data": {
      "text/html": [
       "<div>\n",
       "<style scoped>\n",
       "    .dataframe tbody tr th:only-of-type {\n",
       "        vertical-align: middle;\n",
       "    }\n",
       "\n",
       "    .dataframe tbody tr th {\n",
       "        vertical-align: top;\n",
       "    }\n",
       "\n",
       "    .dataframe thead th {\n",
       "        text-align: right;\n",
       "    }\n",
       "</style>\n",
       "<table border=\"1\" class=\"dataframe\">\n",
       "  <thead>\n",
       "    <tr style=\"text-align: right;\">\n",
       "      <th></th>\n",
       "      <th>Name</th>\n",
       "      <th>Gender</th>\n",
       "      <th>customer_id</th>\n",
       "      <th>Cleaned Name</th>\n",
       "      <th>Predicted_Gender</th>\n",
       "    </tr>\n",
       "  </thead>\n",
       "  <tbody>\n",
       "    <tr>\n",
       "      <th>17</th>\n",
       "      <td>MUENI SILA</td>\n",
       "      <td>Female</td>\n",
       "      <td>622215</td>\n",
       "      <td>MUENI SILA</td>\n",
       "      <td>Male</td>\n",
       "    </tr>\n",
       "    <tr>\n",
       "      <th>20</th>\n",
       "      <td>FELIX MUSAU MITA</td>\n",
       "      <td>Female</td>\n",
       "      <td>1073234</td>\n",
       "      <td>FELIX MUSAU MITA</td>\n",
       "      <td>Male</td>\n",
       "    </tr>\n",
       "    <tr>\n",
       "      <th>26</th>\n",
       "      <td>MATHEW MATHENGE</td>\n",
       "      <td>Male</td>\n",
       "      <td>1344967</td>\n",
       "      <td>MATHEW MATHENGE</td>\n",
       "      <td>Female</td>\n",
       "    </tr>\n",
       "    <tr>\n",
       "      <th>30</th>\n",
       "      <td>PHILIP</td>\n",
       "      <td>Female</td>\n",
       "      <td>2393606</td>\n",
       "      <td>PHILIP</td>\n",
       "      <td>Male</td>\n",
       "    </tr>\n",
       "    <tr>\n",
       "      <th>33</th>\n",
       "      <td>GOSPEL KAMULU</td>\n",
       "      <td>Female</td>\n",
       "      <td>713311</td>\n",
       "      <td>GOSPEL KAMULU</td>\n",
       "      <td>Male</td>\n",
       "    </tr>\n",
       "    <tr>\n",
       "      <th>38</th>\n",
       "      <td>SIMON MWANGI</td>\n",
       "      <td>Female</td>\n",
       "      <td>491484</td>\n",
       "      <td>SIMON MWANGI</td>\n",
       "      <td>Male</td>\n",
       "    </tr>\n",
       "    <tr>\n",
       "      <th>43</th>\n",
       "      <td>HAGAI</td>\n",
       "      <td>Male</td>\n",
       "      <td>3070287</td>\n",
       "      <td>HAGAI</td>\n",
       "      <td>Female</td>\n",
       "    </tr>\n",
       "    <tr>\n",
       "      <th>55</th>\n",
       "      <td>MAMA JOSHUA KAJIADO</td>\n",
       "      <td>Female</td>\n",
       "      <td>1183550</td>\n",
       "      <td>MAMA JOSHUA KAJIADO</td>\n",
       "      <td>Male</td>\n",
       "    </tr>\n",
       "    <tr>\n",
       "      <th>70</th>\n",
       "      <td>KHATORO</td>\n",
       "      <td>Male</td>\n",
       "      <td>2479830</td>\n",
       "      <td>KHATORO</td>\n",
       "      <td>Female</td>\n",
       "    </tr>\n",
       "    <tr>\n",
       "      <th>73</th>\n",
       "      <td>MARY</td>\n",
       "      <td>Male</td>\n",
       "      <td>546286</td>\n",
       "      <td>MARY</td>\n",
       "      <td>Female</td>\n",
       "    </tr>\n",
       "  </tbody>\n",
       "</table>\n",
       "</div>"
      ],
      "text/plain": [
       "                   Name  Gender  customer_id         Cleaned Name  \\\n",
       "17           MUENI SILA  Female       622215           MUENI SILA   \n",
       "20     FELIX MUSAU MITA  Female      1073234     FELIX MUSAU MITA   \n",
       "26      MATHEW MATHENGE    Male      1344967      MATHEW MATHENGE   \n",
       "30               PHILIP  Female      2393606               PHILIP   \n",
       "33        GOSPEL KAMULU  Female       713311        GOSPEL KAMULU   \n",
       "38         SIMON MWANGI  Female       491484         SIMON MWANGI   \n",
       "43                HAGAI    Male      3070287                HAGAI   \n",
       "55  MAMA JOSHUA KAJIADO  Female      1183550  MAMA JOSHUA KAJIADO   \n",
       "70              KHATORO    Male      2479830              KHATORO   \n",
       "73                 MARY    Male       546286                 MARY   \n",
       "\n",
       "   Predicted_Gender  \n",
       "17             Male  \n",
       "20             Male  \n",
       "26           Female  \n",
       "30             Male  \n",
       "33             Male  \n",
       "38             Male  \n",
       "43           Female  \n",
       "55             Male  \n",
       "70           Female  \n",
       "73           Female  "
      ]
     },
     "execution_count": 69,
     "metadata": {},
     "output_type": "execute_result"
    }
   ],
   "source": [
    "## output mismatched records\n",
    "mismatched_mask = df2['Gender'] != df2['Predicted_Gender']\n",
    "mismatched_rows = df2[mismatched_mask]\n",
    "\n",
    "## clean up\n",
    "mismatched_rows = mismatched_rows.drop(columns=['Cleaned Name_x','customer_id_x'], axis=1).rename(columns={'Cleaned Name_y':'Cleaned Name','customer_id_y':'customer_id' })\n",
    "\n",
    "mismatched_rows.head(10)\n",
    "\n"
   ]
  },
  {
   "cell_type": "code",
   "execution_count": 70,
   "metadata": {},
   "outputs": [
    {
     "data": {
      "text/plain": [
       "(44285, 5)"
      ]
     },
     "execution_count": 70,
     "metadata": {},
     "output_type": "execute_result"
    }
   ],
   "source": [
    "mismatched_rows.shape\n"
   ]
  },
  {
   "cell_type": "markdown",
   "metadata": {},
   "source": [
    "#### Import Cleaned Names -mismatch subset"
   ]
  },
  {
   "cell_type": "code",
   "execution_count": 75,
   "metadata": {},
   "outputs": [
    {
     "data": {
      "text/html": [
       "<div>\n",
       "<style scoped>\n",
       "    .dataframe tbody tr th:only-of-type {\n",
       "        vertical-align: middle;\n",
       "    }\n",
       "\n",
       "    .dataframe tbody tr th {\n",
       "        vertical-align: top;\n",
       "    }\n",
       "\n",
       "    .dataframe thead th {\n",
       "        text-align: right;\n",
       "    }\n",
       "</style>\n",
       "<table border=\"1\" class=\"dataframe\">\n",
       "  <thead>\n",
       "    <tr style=\"text-align: right;\">\n",
       "      <th></th>\n",
       "      <th>customer_id</th>\n",
       "      <th>Name</th>\n",
       "      <th>Cleaned Name</th>\n",
       "      <th>Gender</th>\n",
       "      <th>Correct Gender</th>\n",
       "    </tr>\n",
       "  </thead>\n",
       "  <tbody>\n",
       "    <tr>\n",
       "      <th>0</th>\n",
       "      <td>2030046</td>\n",
       "      <td>AANE KENDI</td>\n",
       "      <td>AANE KENDI</td>\n",
       "      <td>Female</td>\n",
       "      <td>Female</td>\n",
       "    </tr>\n",
       "    <tr>\n",
       "      <th>1</th>\n",
       "      <td>2741686</td>\n",
       "      <td>AARON</td>\n",
       "      <td>AARON</td>\n",
       "      <td>Male</td>\n",
       "      <td>Male</td>\n",
       "    </tr>\n",
       "    <tr>\n",
       "      <th>2</th>\n",
       "      <td>2257179</td>\n",
       "      <td>AARON</td>\n",
       "      <td>AARON</td>\n",
       "      <td>Male</td>\n",
       "      <td>Male</td>\n",
       "    </tr>\n",
       "    <tr>\n",
       "      <th>3</th>\n",
       "      <td>784701</td>\n",
       "      <td>AARON</td>\n",
       "      <td>AARON</td>\n",
       "      <td>Male</td>\n",
       "      <td>Male</td>\n",
       "    </tr>\n",
       "    <tr>\n",
       "      <th>4</th>\n",
       "      <td>2462232</td>\n",
       "      <td>AARON</td>\n",
       "      <td>AARON</td>\n",
       "      <td>Male</td>\n",
       "      <td>Male</td>\n",
       "    </tr>\n",
       "  </tbody>\n",
       "</table>\n",
       "</div>"
      ],
      "text/plain": [
       "   customer_id        Name Cleaned Name  Gender Correct Gender\n",
       "0      2030046  AANE KENDI   AANE KENDI  Female         Female\n",
       "1      2741686       AARON        AARON    Male           Male\n",
       "2      2257179       AARON        AARON    Male           Male\n",
       "3       784701       AARON        AARON    Male           Male\n",
       "4      2462232       AARON        AARON    Male           Male"
      ]
     },
     "execution_count": 75,
     "metadata": {},
     "output_type": "execute_result"
    }
   ],
   "source": [
    "## load the Cleaned Train dataset\n",
    "mismatch_clean = pd.read_csv(\"../../Njambanene/Tasks/Name_Identification/KOKO Users -Mismatch Dataset -Trainingset.csv\")\n",
    "mismatch_clean.head()"
   ]
  },
  {
   "cell_type": "code",
   "execution_count": 76,
   "metadata": {},
   "outputs": [
    {
     "name": "stdout",
     "output_type": "stream",
     "text": [
      "Correct Gender    False\n",
      "Cleaned Name      False\n",
      "dtype: bool\n"
     ]
    }
   ],
   "source": [
    "# Check if the 'column_of_interest' contains any missing values (NaN)\n",
    "columns_of_interest = ['Correct Gender','Cleaned Name']\n",
    "\n",
    "has_missing_values = mismatch_clean[columns_of_interest].isnull().any()\n",
    "\n",
    "# Print the result\n",
    "print(has_missing_values)"
   ]
  },
  {
   "cell_type": "code",
   "execution_count": 77,
   "metadata": {},
   "outputs": [
    {
     "data": {
      "text/plain": [
       "(27843, 5)"
      ]
     },
     "execution_count": 77,
     "metadata": {},
     "output_type": "execute_result"
    }
   ],
   "source": [
    "## rename columns\n",
    "mismatch_clean = mismatch_clean.rename(columns={'Correct Gender':'Predicted Gender'}) #'Cleaned Name':'Name',\n",
    "## filter cleaned data in mismatch data\n",
    "mismatch_clean = mismatch_clean.reset_index(drop=True)\n",
    "mismatched_rows = mismatched_rows.reset_index(drop=True)\n",
    "\n",
    "current_miss = mismatched_rows.drop(mismatched_rows[mismatched_rows['customer_id'].isin(mismatch_clean['customer_id'])].index)\n",
    "## check shape after\n",
    "current_miss.shape"
   ]
  },
  {
   "cell_type": "code",
   "execution_count": 78,
   "metadata": {},
   "outputs": [],
   "source": [
    "## create a copy \n",
    "current_miss_rows = current_miss"
   ]
  },
  {
   "cell_type": "code",
   "execution_count": 79,
   "metadata": {},
   "outputs": [],
   "source": [
    "## output\n",
    "current_miss_rows.to_csv('../../Njambanene/Tasks/Name_Identification/KOKO Users -Current Mismatch Dataset.csv',index=False)"
   ]
  },
  {
   "cell_type": "code",
   "execution_count": 80,
   "metadata": {},
   "outputs": [],
   "source": [
    "# Create a new data set in Domo with the result, the return value is the data set id of the new data set.\n",
    "# mismatched_rows = domo.ds_create(mismatched_rows,'Customer Gender Mismatch Dataset','Python')\n",
    "## previously created dataset\n",
    "# all_cust_prof_data_prev = domo.ds_get('aa11e73e-904a-4dcb-8762-83d43df914e2')"
   ]
  },
  {
   "cell_type": "code",
   "execution_count": 81,
   "metadata": {},
   "outputs": [],
   "source": [
    "## update the previously created dataset\n",
    "\n",
    "# current_miss_rows = domo.ds_update('aa11e73e-904a-4dcb-8762-83d43df914e2',current_miss)"
   ]
  },
  {
   "cell_type": "markdown",
   "metadata": {},
   "source": [
    "#### Build a Merged Training Dataset and Train another Model"
   ]
  },
  {
   "cell_type": "code",
   "execution_count": 82,
   "metadata": {},
   "outputs": [
    {
     "data": {
      "text/html": [
       "<div>\n",
       "<style scoped>\n",
       "    .dataframe tbody tr th:only-of-type {\n",
       "        vertical-align: middle;\n",
       "    }\n",
       "\n",
       "    .dataframe tbody tr th {\n",
       "        vertical-align: top;\n",
       "    }\n",
       "\n",
       "    .dataframe thead th {\n",
       "        text-align: right;\n",
       "    }\n",
       "</style>\n",
       "<table border=\"1\" class=\"dataframe\">\n",
       "  <thead>\n",
       "    <tr style=\"text-align: right;\">\n",
       "      <th></th>\n",
       "      <th>customer_id</th>\n",
       "      <th>Cleaned Name</th>\n",
       "      <th>Predicted_Gender</th>\n",
       "    </tr>\n",
       "  </thead>\n",
       "  <tbody>\n",
       "    <tr>\n",
       "      <th>27223</th>\n",
       "      <td>2710292</td>\n",
       "      <td>MAMA BRIAN</td>\n",
       "      <td>Female</td>\n",
       "    </tr>\n",
       "    <tr>\n",
       "      <th>27224</th>\n",
       "      <td>2024009</td>\n",
       "      <td>MAMA NJOKI MAJENGO</td>\n",
       "      <td>Female</td>\n",
       "    </tr>\n",
       "    <tr>\n",
       "      <th>27225</th>\n",
       "      <td>858409</td>\n",
       "      <td>WA RUTH</td>\n",
       "      <td>Female</td>\n",
       "    </tr>\n",
       "    <tr>\n",
       "      <th>27226</th>\n",
       "      <td>26162</td>\n",
       "      <td>MAMA JEFF</td>\n",
       "      <td>Female</td>\n",
       "    </tr>\n",
       "    <tr>\n",
       "      <th>27227</th>\n",
       "      <td>1005141</td>\n",
       "      <td>LINA</td>\n",
       "      <td>Female</td>\n",
       "    </tr>\n",
       "    <tr>\n",
       "      <th>27228</th>\n",
       "      <td>671120</td>\n",
       "      <td>NJERI S</td>\n",
       "      <td>Female</td>\n",
       "    </tr>\n",
       "    <tr>\n",
       "      <th>27229</th>\n",
       "      <td>2715552</td>\n",
       "      <td>MAMA WANGARE</td>\n",
       "      <td>Female</td>\n",
       "    </tr>\n",
       "    <tr>\n",
       "      <th>27230</th>\n",
       "      <td>605109</td>\n",
       "      <td>MAMA SHIKO KESHO</td>\n",
       "      <td>Female</td>\n",
       "    </tr>\n",
       "    <tr>\n",
       "      <th>27231</th>\n",
       "      <td>753760</td>\n",
       "      <td>MAMA WAMBO</td>\n",
       "      <td>Female</td>\n",
       "    </tr>\n",
       "    <tr>\n",
       "      <th>27232</th>\n",
       "      <td>1141875</td>\n",
       "      <td>MILLICENT</td>\n",
       "      <td>Female</td>\n",
       "    </tr>\n",
       "  </tbody>\n",
       "</table>\n",
       "</div>"
      ],
      "text/plain": [
       "       customer_id        Cleaned Name Predicted_Gender\n",
       "27223      2710292          MAMA BRIAN           Female\n",
       "27224      2024009  MAMA NJOKI MAJENGO           Female\n",
       "27225       858409             WA RUTH           Female\n",
       "27226        26162           MAMA JEFF           Female\n",
       "27227      1005141                LINA           Female\n",
       "27228       671120             NJERI S           Female\n",
       "27229      2715552        MAMA WANGARE           Female\n",
       "27230       605109    MAMA SHIKO KESHO           Female\n",
       "27231       753760          MAMA WAMBO           Female\n",
       "27232      1141875           MILLICENT           Female"
      ]
     },
     "execution_count": 82,
     "metadata": {},
     "output_type": "execute_result"
    }
   ],
   "source": [
    "mismatch_clean=mismatch_clean.drop(columns=['Name','Gender'],axis=1).rename(columns={'Predicted Gender':'Predicted_Gender'})\n",
    "mismatch_clean.tail(10)"
   ]
  },
  {
   "cell_type": "code",
   "execution_count": 83,
   "metadata": {},
   "outputs": [
    {
     "data": {
      "text/plain": [
       "(242960, 3)"
      ]
     },
     "execution_count": 83,
     "metadata": {},
     "output_type": "execute_result"
    }
   ],
   "source": [
    "#### Append Predicted-Matched data with former Test data\n",
    "# Concatenate datasets based on matching columns\n",
    "merged_train_dt = pd.concat([dt_predictions, df_predictions,mismatch_clean], axis=0, ignore_index=True)#\n",
    "merged_train_dt.shape"
   ]
  },
  {
   "cell_type": "code",
   "execution_count": 84,
   "metadata": {},
   "outputs": [
    {
     "data": {
      "text/html": [
       "<div>\n",
       "<style scoped>\n",
       "    .dataframe tbody tr th:only-of-type {\n",
       "        vertical-align: middle;\n",
       "    }\n",
       "\n",
       "    .dataframe tbody tr th {\n",
       "        vertical-align: top;\n",
       "    }\n",
       "\n",
       "    .dataframe thead th {\n",
       "        text-align: right;\n",
       "    }\n",
       "</style>\n",
       "<table border=\"1\" class=\"dataframe\">\n",
       "  <thead>\n",
       "    <tr style=\"text-align: right;\">\n",
       "      <th></th>\n",
       "      <th>Cleaned Name</th>\n",
       "      <th>Predicted_Gender</th>\n",
       "      <th>customer_id</th>\n",
       "    </tr>\n",
       "  </thead>\n",
       "  <tbody>\n",
       "    <tr>\n",
       "      <th>242950</th>\n",
       "      <td>MAMA BRIAN</td>\n",
       "      <td>Female</td>\n",
       "      <td>2710292.0</td>\n",
       "    </tr>\n",
       "    <tr>\n",
       "      <th>242951</th>\n",
       "      <td>MAMA NJOKI MAJENGO</td>\n",
       "      <td>Female</td>\n",
       "      <td>2024009.0</td>\n",
       "    </tr>\n",
       "    <tr>\n",
       "      <th>242952</th>\n",
       "      <td>WA RUTH</td>\n",
       "      <td>Female</td>\n",
       "      <td>858409.0</td>\n",
       "    </tr>\n",
       "    <tr>\n",
       "      <th>242953</th>\n",
       "      <td>MAMA JEFF</td>\n",
       "      <td>Female</td>\n",
       "      <td>26162.0</td>\n",
       "    </tr>\n",
       "    <tr>\n",
       "      <th>242954</th>\n",
       "      <td>LINA</td>\n",
       "      <td>Female</td>\n",
       "      <td>1005141.0</td>\n",
       "    </tr>\n",
       "    <tr>\n",
       "      <th>242955</th>\n",
       "      <td>NJERI S</td>\n",
       "      <td>Female</td>\n",
       "      <td>671120.0</td>\n",
       "    </tr>\n",
       "    <tr>\n",
       "      <th>242956</th>\n",
       "      <td>MAMA WANGARE</td>\n",
       "      <td>Female</td>\n",
       "      <td>2715552.0</td>\n",
       "    </tr>\n",
       "    <tr>\n",
       "      <th>242957</th>\n",
       "      <td>MAMA SHIKO KESHO</td>\n",
       "      <td>Female</td>\n",
       "      <td>605109.0</td>\n",
       "    </tr>\n",
       "    <tr>\n",
       "      <th>242958</th>\n",
       "      <td>MAMA WAMBO</td>\n",
       "      <td>Female</td>\n",
       "      <td>753760.0</td>\n",
       "    </tr>\n",
       "    <tr>\n",
       "      <th>242959</th>\n",
       "      <td>MILLICENT</td>\n",
       "      <td>Female</td>\n",
       "      <td>1141875.0</td>\n",
       "    </tr>\n",
       "  </tbody>\n",
       "</table>\n",
       "</div>"
      ],
      "text/plain": [
       "              Cleaned Name Predicted_Gender  customer_id\n",
       "242950          MAMA BRIAN           Female    2710292.0\n",
       "242951  MAMA NJOKI MAJENGO           Female    2024009.0\n",
       "242952             WA RUTH           Female     858409.0\n",
       "242953           MAMA JEFF           Female      26162.0\n",
       "242954                LINA           Female    1005141.0\n",
       "242955             NJERI S           Female     671120.0\n",
       "242956        MAMA WANGARE           Female    2715552.0\n",
       "242957    MAMA SHIKO KESHO           Female     605109.0\n",
       "242958          MAMA WAMBO           Female     753760.0\n",
       "242959           MILLICENT           Female    1141875.0"
      ]
     },
     "execution_count": 84,
     "metadata": {},
     "output_type": "execute_result"
    }
   ],
   "source": [
    "merged_train_dt.tail(10)"
   ]
  },
  {
   "cell_type": "code",
   "execution_count": 85,
   "metadata": {},
   "outputs": [],
   "source": [
    "### drop duplicates in training dataset\n",
    "# merged_train_dt.drop_duplicates(subset='Cleaned Name', keep='last',inplace=True)\n",
    "# merged_train_dt.shape"
   ]
  },
  {
   "cell_type": "code",
   "execution_count": 86,
   "metadata": {},
   "outputs": [
    {
     "name": "stdout",
     "output_type": "stream",
     "text": [
      "The proportion of one-word-names is: 60.5%\n"
     ]
    }
   ],
   "source": [
    "  ## proportion of one-word names\n",
    "one_word_names2a = round(count_one_word_names(merged_train_dt['Cleaned Name'])/len(merged_train_dt)*100,2)\n",
    "\n",
    "print(f\"The proportion of one-word-names is: {one_word_names2a}%\")"
   ]
  },
  {
   "cell_type": "code",
   "execution_count": 87,
   "metadata": {},
   "outputs": [
    {
     "data": {
      "text/plain": [
       "Female    141340\n",
       "Male      101620\n",
       "Name: Predicted_Gender, dtype: int64"
      ]
     },
     "execution_count": 87,
     "metadata": {},
     "output_type": "execute_result"
    }
   ],
   "source": [
    "merged_train_dt['Predicted_Gender'].value_counts()"
   ]
  },
  {
   "cell_type": "code",
   "execution_count": 88,
   "metadata": {},
   "outputs": [],
   "source": [
    "# total = len(merged_train_dt)\n",
    "# counts = merged_train_dt['Predicted_Gender'].value_counts()\n",
    "# proportions = counts / total\n",
    "# proportions"
   ]
  },
  {
   "cell_type": "code",
   "execution_count": 89,
   "metadata": {},
   "outputs": [
    {
     "data": {
      "image/png": "[encoded data removed]",
      "text/plain": [
       "<Figure size 640x480 with 1 Axes>"
      ]
     },
     "metadata": {},
     "output_type": "display_data"
    }
   ],
   "source": [
    "## plot for male and female names in the merged training data\n",
    "\n",
    "# Calculate the counts and proportions\n",
    "counts = merged_train_dt['Predicted_Gender'].value_counts()\n",
    "proportions = counts / len(merged_train_dt)\n",
    "\n",
    "# Sort the counts and proportions in descending order\n",
    "sorted_counts = counts.sort_values(ascending=False)\n",
    "sorted_proportions = proportions.loc[sorted_counts.index]\n",
    "\n",
    "# Create the countplot with sorted data\n",
    "ax = sns.countplot(x='Predicted_Gender', data=merged_train_dt, order=sorted_counts.index)\n",
    "\n",
    "# Add the proportions as annotations\n",
    "for i, p in enumerate(ax.patches):\n",
    "    x = p.get_x() + p.get_width() / 2\n",
    "    y = p.get_height()\n",
    "    label = f\"{sorted_proportions[i]:.2%}\"\n",
    "    ax.annotate(label, (x, y), ha='center', va='bottom')\n",
    "\n",
    "# Set the title and x-axis tick labels\n",
    "plt.title('No of male and female names in the dataset')\n",
    "plt.xticks(ticks=[0, 1], labels=['Female', 'Male'])\n",
    "\n",
    "# Display the plot\n",
    "plt.show()\n",
    "\n"
   ]
  },
  {
   "cell_type": "code",
   "execution_count": 90,
   "metadata": {},
   "outputs": [
    {
     "data": {
      "text/html": [
       "<div>\n",
       "<style scoped>\n",
       "    .dataframe tbody tr th:only-of-type {\n",
       "        vertical-align: middle;\n",
       "    }\n",
       "\n",
       "    .dataframe tbody tr th {\n",
       "        vertical-align: top;\n",
       "    }\n",
       "\n",
       "    .dataframe thead th {\n",
       "        text-align: right;\n",
       "    }\n",
       "</style>\n",
       "<table border=\"1\" class=\"dataframe\">\n",
       "  <thead>\n",
       "    <tr style=\"text-align: right;\">\n",
       "      <th></th>\n",
       "      <th>Cleaned Name</th>\n",
       "      <th>Predicted_Gender</th>\n",
       "      <th>customer_id</th>\n",
       "    </tr>\n",
       "  </thead>\n",
       "  <tbody>\n",
       "    <tr>\n",
       "      <th>0</th>\n",
       "      <td>MUOKI</td>\n",
       "      <td>Male</td>\n",
       "      <td>NaN</td>\n",
       "    </tr>\n",
       "    <tr>\n",
       "      <th>1</th>\n",
       "      <td>PEACE</td>\n",
       "      <td>Female</td>\n",
       "      <td>NaN</td>\n",
       "    </tr>\n",
       "    <tr>\n",
       "      <th>2</th>\n",
       "      <td>MWIYERIA KANANA</td>\n",
       "      <td>Male</td>\n",
       "      <td>NaN</td>\n",
       "    </tr>\n",
       "    <tr>\n",
       "      <th>3</th>\n",
       "      <td>JACKLINE</td>\n",
       "      <td>Female</td>\n",
       "      <td>NaN</td>\n",
       "    </tr>\n",
       "    <tr>\n",
       "      <th>4</th>\n",
       "      <td>JANE MUTHONI</td>\n",
       "      <td>Female</td>\n",
       "      <td>NaN</td>\n",
       "    </tr>\n",
       "    <tr>\n",
       "      <th>5</th>\n",
       "      <td>JAMES WM</td>\n",
       "      <td>Male</td>\n",
       "      <td>NaN</td>\n",
       "    </tr>\n",
       "    <tr>\n",
       "      <th>6</th>\n",
       "      <td>BERNARD OBURA</td>\n",
       "      <td>Female</td>\n",
       "      <td>NaN</td>\n",
       "    </tr>\n",
       "    <tr>\n",
       "      <th>7</th>\n",
       "      <td>LUCY</td>\n",
       "      <td>Male</td>\n",
       "      <td>NaN</td>\n",
       "    </tr>\n",
       "    <tr>\n",
       "      <th>8</th>\n",
       "      <td>FREDERICK OTIENO</td>\n",
       "      <td>Female</td>\n",
       "      <td>NaN</td>\n",
       "    </tr>\n",
       "    <tr>\n",
       "      <th>9</th>\n",
       "      <td>MARY GITAU</td>\n",
       "      <td>Male</td>\n",
       "      <td>NaN</td>\n",
       "    </tr>\n",
       "  </tbody>\n",
       "</table>\n",
       "</div>"
      ],
      "text/plain": [
       "       Cleaned Name Predicted_Gender  customer_id\n",
       "0             MUOKI             Male          NaN\n",
       "1             PEACE           Female          NaN\n",
       "2   MWIYERIA KANANA             Male          NaN\n",
       "3          JACKLINE           Female          NaN\n",
       "4      JANE MUTHONI           Female          NaN\n",
       "5          JAMES WM             Male          NaN\n",
       "6     BERNARD OBURA           Female          NaN\n",
       "7              LUCY             Male          NaN\n",
       "8  FREDERICK OTIENO           Female          NaN\n",
       "9        MARY GITAU             Male          NaN"
      ]
     },
     "execution_count": 90,
     "metadata": {},
     "output_type": "execute_result"
    }
   ],
   "source": [
    "### Train another model on merged data\n",
    "## run clean function on names\n",
    "merged_train_dt['Cleaned Name'] = merged_train_dt['Cleaned Name'].apply(clean_name)#apply(convert_float_and_remove_numbers).apply(truncate_drop_and_clean)\n",
    "merged_train_dt.head(10)"
   ]
  },
  {
   "cell_type": "code",
   "execution_count": 91,
   "metadata": {},
   "outputs": [
    {
     "name": "stdout",
     "output_type": "stream",
     "text": [
      "False\n"
     ]
    }
   ],
   "source": [
    "# Check if the 'column_of_interest' contains any missing values (NaN)\n",
    "has_missing_values = merged_train_dt['Cleaned Name'].isnull().any()\n",
    "# Print the result\n",
    "print(has_missing_values)"
   ]
  },
  {
   "cell_type": "code",
   "execution_count": 92,
   "metadata": {},
   "outputs": [],
   "source": [
    "## build model\n",
    "X = list(merged_train_dt['Cleaned Name'])\n",
    "Y = list(merged_train_dt['Predicted_Gender'])\n"
   ]
  },
  {
   "cell_type": "code",
   "execution_count": 93,
   "metadata": {},
   "outputs": [],
   "source": [
    "## encode the labels\n",
    "\n",
    "encoder = LabelEncoder()\n",
    "Y = encoder.fit_transform(Y)"
   ]
  },
  {
   "cell_type": "code",
   "execution_count": 94,
   "metadata": {},
   "outputs": [],
   "source": [
    "## count vectorization\n",
    "\n",
    "cv = CountVectorizer(analyzer = 'char')\n",
    "X = cv.fit_transform(X).toarray()"
   ]
  },
  {
   "cell_type": "code",
   "execution_count": 95,
   "metadata": {},
   "outputs": [],
   "source": [
    "## split the dataset\n",
    "from sklearn.model_selection import train_test_split\n",
    "x_train, x_test, y_train, y_test = train_test_split(X,Y, test_size=0.33, random_state= 43)"
   ]
  },
  {
   "cell_type": "code",
   "execution_count": 96,
   "metadata": {},
   "outputs": [],
   "source": [
    "# Define the seed\n",
    "XGB_model2 = XGBClassifier(random_state= seed) #use_label_encoder = False\n",
    "XGB_model2.fit(x_train,y_train)\n",
    "XGB_y_pred = XGB_model2.predict(x_test)\n",
    "\n",
    "# # Save the model to a file\n",
    "# joblib.dump(RF_model, 'rf_model2.pkl')\n",
    "\n",
    "# # Load the model from the file\n",
    "# loaded_rf_model = joblib.load('rf_model2.pkl')\n",
    "\n",
    "# Make predictions using the ensemble model\n",
    "XGB_y_pred2 = XGB_model2.predict(x_test)\n",
    "\n",
    "predictions2 = XGB_model2.predict(df_test)"
   ]
  },
  {
   "cell_type": "code",
   "execution_count": 97,
   "metadata": {},
   "outputs": [
    {
     "name": "stdout",
     "output_type": "stream",
     "text": [
      "0.9046983548898063\n",
      "Accuracy: 90.47%\n",
      "              precision    recall  f1-score   support\n",
      "\n",
      "           0       0.91      0.93      0.92     46829\n",
      "           1       0.90      0.86      0.88     33348\n",
      "\n",
      "    accuracy                           0.90     80177\n",
      "   macro avg       0.90      0.90      0.90     80177\n",
      "weighted avg       0.90      0.90      0.90     80177\n",
      "\n"
     ]
    }
   ],
   "source": [
    "# for XGB\n",
    "print(metrics.accuracy_score(XGB_y_pred2,y_test))\n",
    "\n",
    "accuracy = metrics.accuracy_score(XGB_y_pred2,y_test)\n",
    "print(\"Accuracy: %.2f%%\" % (accuracy*100))\n",
    "\n",
    "print(metrics.classification_report(y_test, XGB_y_pred2))\n",
    "\n",
    "# print(cmatrix(RF_model2))"
   ]
  },
  {
   "cell_type": "code",
   "execution_count": 98,
   "metadata": {},
   "outputs": [],
   "source": [
    "# Define the seed\n",
    "seed = 45\n",
    "\n",
    "RF_model = RandomForestClassifier(random_state=seed)\n",
    "RF_model.fit(x_train, y_train)\n",
    "\n",
    "# Save the model to a file\n",
    "joblib.dump(RF_model, 'rf_model2.pkl')\n",
    "\n",
    "# Load the model from the file\n",
    "loaded_rf_model = joblib.load('rf_model2.pkl')\n",
    "\n",
    "# Make predictions using the ensemble model\n",
    "RF_y_pred2 = loaded_rf_model.predict(x_test)\n",
    "\n",
    "predictions2 = loaded_rf_model.predict(df_test)"
   ]
  },
  {
   "cell_type": "code",
   "execution_count": 99,
   "metadata": {},
   "outputs": [
    {
     "name": "stdout",
     "output_type": "stream",
     "text": [
      "0.9419783728500692\n",
      "Accuracy: 94.20%\n",
      "              precision    recall  f1-score   support\n",
      "\n",
      "           0       0.94      0.96      0.95     46829\n",
      "           1       0.95      0.91      0.93     33348\n",
      "\n",
      "    accuracy                           0.94     80177\n",
      "   macro avg       0.94      0.94      0.94     80177\n",
      "weighted avg       0.94      0.94      0.94     80177\n",
      "\n"
     ]
    }
   ],
   "source": [
    "# for RF\n",
    "print(metrics.accuracy_score(RF_y_pred2,y_test))\n",
    "\n",
    "accuracy = metrics.accuracy_score(RF_y_pred2,y_test)\n",
    "print(\"Accuracy: %.2f%%\" % (accuracy*100))\n",
    "\n",
    "print(metrics.classification_report(y_test, RF_y_pred2))\n",
    "\n",
    "# print(cmatrix(RF_model2))"
   ]
  },
  {
   "cell_type": "markdown",
   "metadata": {},
   "source": [
    "#### Running Prediction on Entire Customer Profile Data"
   ]
  },
  {
   "cell_type": "code",
   "execution_count": 100,
   "metadata": {},
   "outputs": [
    {
     "data": {
      "text/html": [
       "<div>\n",
       "<style scoped>\n",
       "    .dataframe tbody tr th:only-of-type {\n",
       "        vertical-align: middle;\n",
       "    }\n",
       "\n",
       "    .dataframe tbody tr th {\n",
       "        vertical-align: top;\n",
       "    }\n",
       "\n",
       "    .dataframe thead th {\n",
       "        text-align: right;\n",
       "    }\n",
       "</style>\n",
       "<table border=\"1\" class=\"dataframe\">\n",
       "  <thead>\n",
       "    <tr style=\"text-align: right;\">\n",
       "      <th></th>\n",
       "      <th>customer_id</th>\n",
       "      <th>num_canisters</th>\n",
       "      <th>name</th>\n",
       "      <th>gender</th>\n",
       "      <th>is_club_customer</th>\n",
       "    </tr>\n",
       "  </thead>\n",
       "  <tbody>\n",
       "    <tr>\n",
       "      <th>0</th>\n",
       "      <td>NaN</td>\n",
       "      <td>2977</td>\n",
       "      <td>NaN</td>\n",
       "      <td>NaN</td>\n",
       "      <td>NaN</td>\n",
       "    </tr>\n",
       "    <tr>\n",
       "      <th>1</th>\n",
       "      <td>3174531.0</td>\n",
       "      <td>1</td>\n",
       "      <td>DAMARIS WANGARI</td>\n",
       "      <td>1.0</td>\n",
       "      <td>0.0</td>\n",
       "    </tr>\n",
       "    <tr>\n",
       "      <th>2</th>\n",
       "      <td>3208886.0</td>\n",
       "      <td>1</td>\n",
       "      <td>OLGA D</td>\n",
       "      <td>NaN</td>\n",
       "      <td>0.0</td>\n",
       "    </tr>\n",
       "    <tr>\n",
       "      <th>3</th>\n",
       "      <td>1111966.0</td>\n",
       "      <td>1</td>\n",
       "      <td>MARY NGLN</td>\n",
       "      <td>1.0</td>\n",
       "      <td>0.0</td>\n",
       "    </tr>\n",
       "    <tr>\n",
       "      <th>4</th>\n",
       "      <td>1249576.0</td>\n",
       "      <td>1</td>\n",
       "      <td>AMIR</td>\n",
       "      <td>2.0</td>\n",
       "      <td>0.0</td>\n",
       "    </tr>\n",
       "  </tbody>\n",
       "</table>\n",
       "</div>"
      ],
      "text/plain": [
       "   customer_id  num_canisters             name  gender  is_club_customer\n",
       "0          NaN           2977              NaN     NaN               NaN\n",
       "1    3174531.0              1  DAMARIS WANGARI     1.0               0.0\n",
       "2    3208886.0              1           OLGA D     NaN               0.0\n",
       "3    1111966.0              1        MARY NGLN     1.0               0.0\n",
       "4    1249576.0              1             AMIR     2.0               0.0"
      ]
     },
     "execution_count": 100,
     "metadata": {},
     "output_type": "execute_result"
    }
   ],
   "source": [
    "# Download  entire cust dataset from Domo\n",
    "cust_prof = domo.ds_get('6ab44284-0840-4af4-a316-09e993e0065a')\n",
    "cust_prof.head()"
   ]
  },
  {
   "cell_type": "code",
   "execution_count": 101,
   "metadata": {},
   "outputs": [
    {
     "data": {
      "text/plain": [
       "(872535, 5)"
      ]
     },
     "execution_count": 101,
     "metadata": {},
     "output_type": "execute_result"
    }
   ],
   "source": [
    "## check shape\n",
    "cust_prof.shape"
   ]
  },
  {
   "cell_type": "code",
   "execution_count": 102,
   "metadata": {},
   "outputs": [],
   "source": [
    "# Map values from 1 to \"female\" and 2 to \"male\" in the 'Gender' column\n",
    "cust_prof['gender'] = cust_prof['gender'].map({1: 'Female', 2: 'Male'})"
   ]
  },
  {
   "cell_type": "code",
   "execution_count": 103,
   "metadata": {},
   "outputs": [],
   "source": [
    "## select key cols\n",
    "\n",
    "cols_of_interest = ['customer_id','name']#,'gender'\n",
    "cust_prof = cust_prof[cols_of_interest]\n",
    " "
   ]
  },
  {
   "cell_type": "code",
   "execution_count": 104,
   "metadata": {},
   "outputs": [
    {
     "data": {
      "text/plain": [
       "(238711, 3)"
      ]
     },
     "execution_count": 104,
     "metadata": {},
     "output_type": "execute_result"
    }
   ],
   "source": [
    "matched_data_rows = pd.concat([matched_rows,mismatch_clean],axis=0,ignore_index=True)\n",
    "matched_data_rows.shape"
   ]
  },
  {
   "cell_type": "code",
   "execution_count": 105,
   "metadata": {},
   "outputs": [
    {
     "data": {
      "text/html": [
       "<div>\n",
       "<style scoped>\n",
       "    .dataframe tbody tr th:only-of-type {\n",
       "        vertical-align: middle;\n",
       "    }\n",
       "\n",
       "    .dataframe tbody tr th {\n",
       "        vertical-align: top;\n",
       "    }\n",
       "\n",
       "    .dataframe thead th {\n",
       "        text-align: right;\n",
       "    }\n",
       "</style>\n",
       "<table border=\"1\" class=\"dataframe\">\n",
       "  <thead>\n",
       "    <tr style=\"text-align: right;\">\n",
       "      <th></th>\n",
       "      <th>customer_id</th>\n",
       "      <th>Cleaned Name</th>\n",
       "      <th>Predicted_Gender</th>\n",
       "    </tr>\n",
       "  </thead>\n",
       "  <tbody>\n",
       "    <tr>\n",
       "      <th>0</th>\n",
       "      <td>3174531</td>\n",
       "      <td>DAMARIS WANGARI</td>\n",
       "      <td>Female</td>\n",
       "    </tr>\n",
       "    <tr>\n",
       "      <th>1</th>\n",
       "      <td>1111966</td>\n",
       "      <td>MARY NGLN</td>\n",
       "      <td>Female</td>\n",
       "    </tr>\n",
       "    <tr>\n",
       "      <th>2</th>\n",
       "      <td>1249576</td>\n",
       "      <td>AMIR</td>\n",
       "      <td>Male</td>\n",
       "    </tr>\n",
       "    <tr>\n",
       "      <th>3</th>\n",
       "      <td>841007</td>\n",
       "      <td>LEAH</td>\n",
       "      <td>Female</td>\n",
       "    </tr>\n",
       "    <tr>\n",
       "      <th>4</th>\n",
       "      <td>1657921</td>\n",
       "      <td>GRACE</td>\n",
       "      <td>Female</td>\n",
       "    </tr>\n",
       "  </tbody>\n",
       "</table>\n",
       "</div>"
      ],
      "text/plain": [
       "   customer_id     Cleaned Name Predicted_Gender\n",
       "0      3174531  DAMARIS WANGARI           Female\n",
       "1      1111966        MARY NGLN           Female\n",
       "2      1249576             AMIR             Male\n",
       "3       841007             LEAH           Female\n",
       "4      1657921            GRACE           Female"
      ]
     },
     "execution_count": 105,
     "metadata": {},
     "output_type": "execute_result"
    }
   ],
   "source": [
    "matched_data_rows.head()\n"
   ]
  },
  {
   "cell_type": "code",
   "execution_count": 106,
   "metadata": {},
   "outputs": [
    {
     "data": {
      "text/plain": [
       "(644615, 2)"
      ]
     },
     "execution_count": 106,
     "metadata": {},
     "output_type": "execute_result"
    }
   ],
   "source": [
    "\n",
    "## filter data already in train data\n",
    "cust_prof = cust_prof.reset_index(drop=True)\n",
    "matched_data_rows = matched_data_rows.reset_index(drop=True)\n",
    "\n",
    "df4 = cust_prof.drop(cust_prof[cust_prof['customer_id'].isin(matched_data_rows['customer_id'])].index)\n",
    "## check shape after\n",
    "df4.shape"
   ]
  },
  {
   "cell_type": "code",
   "execution_count": 107,
   "metadata": {},
   "outputs": [
    {
     "data": {
      "text/html": [
       "<div>\n",
       "<style scoped>\n",
       "    .dataframe tbody tr th:only-of-type {\n",
       "        vertical-align: middle;\n",
       "    }\n",
       "\n",
       "    .dataframe tbody tr th {\n",
       "        vertical-align: top;\n",
       "    }\n",
       "\n",
       "    .dataframe thead th {\n",
       "        text-align: right;\n",
       "    }\n",
       "</style>\n",
       "<table border=\"1\" class=\"dataframe\">\n",
       "  <thead>\n",
       "    <tr style=\"text-align: right;\">\n",
       "      <th></th>\n",
       "      <th>customer_id</th>\n",
       "      <th>Name</th>\n",
       "    </tr>\n",
       "  </thead>\n",
       "  <tbody>\n",
       "    <tr>\n",
       "      <th>2</th>\n",
       "      <td>3208886.0</td>\n",
       "      <td>OLGA D</td>\n",
       "    </tr>\n",
       "    <tr>\n",
       "      <th>5</th>\n",
       "      <td>2730346.0</td>\n",
       "      <td>IRENE</td>\n",
       "    </tr>\n",
       "    <tr>\n",
       "      <th>8</th>\n",
       "      <td>2689295.0</td>\n",
       "      <td>BENARD</td>\n",
       "    </tr>\n",
       "    <tr>\n",
       "      <th>9</th>\n",
       "      <td>2542679.0</td>\n",
       "      <td>EDWARD WAMAI</td>\n",
       "    </tr>\n",
       "    <tr>\n",
       "      <th>11</th>\n",
       "      <td>2089987.0</td>\n",
       "      <td>LUCY MWANGI</td>\n",
       "    </tr>\n",
       "  </tbody>\n",
       "</table>\n",
       "</div>"
      ],
      "text/plain": [
       "    customer_id          Name\n",
       "2     3208886.0        OLGA D\n",
       "5     2730346.0         IRENE\n",
       "8     2689295.0        BENARD\n",
       "9     2542679.0  EDWARD WAMAI\n",
       "11    2089987.0   LUCY MWANGI"
      ]
     },
     "execution_count": 107,
     "metadata": {},
     "output_type": "execute_result"
    }
   ],
   "source": [
    "## drop nas\n",
    "df4 = df4.dropna(how = 'all')\n",
    "## rename cols\n",
    "df4 = df4.rename(columns= {'name': 'Name'})#,'gender':'Gender'\n",
    "df4.head()"
   ]
  },
  {
   "cell_type": "code",
   "execution_count": 108,
   "metadata": {},
   "outputs": [
    {
     "name": "stdout",
     "output_type": "stream",
     "text": [
      "False\n"
     ]
    }
   ],
   "source": [
    "# Check if the 'column_of_interest' contains any missing values (NaN)\n",
    "has_missing_values = df4['Name'].isnull().any()\n",
    "# Print the result\n",
    "print(has_missing_values)"
   ]
  },
  {
   "cell_type": "code",
   "execution_count": 109,
   "metadata": {},
   "outputs": [
    {
     "name": "stdout",
     "output_type": "stream",
     "text": [
      "The proportion of one-word-names is: 49.76%\n"
     ]
    }
   ],
   "source": [
    "  ## proportion of one-word names\n",
    "one_word_names3 = round(count_one_word_names(df4['Name'])/len(df4)*100,2)\n",
    "\n",
    "print(f\"The proportion of one-word-names is: {one_word_names3}%\")"
   ]
  },
  {
   "cell_type": "markdown",
   "metadata": {},
   "source": [
    "##### Pre-Processing Final Prediction Data"
   ]
  },
  {
   "cell_type": "code",
   "execution_count": 110,
   "metadata": {},
   "outputs": [],
   "source": [
    "def add_name_length_column(names):\n",
    "  \"\"\"Adds a column of the number of characters in each name to a DataFrame.\n",
    "\n",
    "  Args:\n",
    "    names: A list of names.\n",
    "\n",
    "  Returns:\n",
    "    A DataFrame with a column of the number of characters in each name.\n",
    "  \"\"\"\n",
    "  name_lengths = []\n",
    "  for name in names:\n",
    "    name_length = len(name)\n",
    "    name_lengths.append(name_length)\n",
    "\n",
    "  df = pd.DataFrame({'Name': names})\n",
    "  df['Name Length'] = name_lengths\n",
    "  return df"
   ]
  },
  {
   "cell_type": "code",
   "execution_count": 111,
   "metadata": {},
   "outputs": [],
   "source": [
    "## check the name with most characters\n",
    "\n",
    "# df4 = add_name_length_column(df4['Name']).sort_values(by ='Name Length' ,ascending=False)\n",
    "# df4.head()"
   ]
  },
  {
   "cell_type": "code",
   "execution_count": 112,
   "metadata": {},
   "outputs": [
    {
     "data": {
      "text/html": [
       "<div>\n",
       "<style scoped>\n",
       "    .dataframe tbody tr th:only-of-type {\n",
       "        vertical-align: middle;\n",
       "    }\n",
       "\n",
       "    .dataframe tbody tr th {\n",
       "        vertical-align: top;\n",
       "    }\n",
       "\n",
       "    .dataframe thead th {\n",
       "        text-align: right;\n",
       "    }\n",
       "</style>\n",
       "<table border=\"1\" class=\"dataframe\">\n",
       "  <thead>\n",
       "    <tr style=\"text-align: right;\">\n",
       "      <th></th>\n",
       "      <th>customer_id</th>\n",
       "      <th>Name</th>\n",
       "      <th>Cleaned Name</th>\n",
       "    </tr>\n",
       "  </thead>\n",
       "  <tbody>\n",
       "    <tr>\n",
       "      <th>2</th>\n",
       "      <td>3208886.0</td>\n",
       "      <td>OLGA D</td>\n",
       "      <td>OLGA D</td>\n",
       "    </tr>\n",
       "    <tr>\n",
       "      <th>5</th>\n",
       "      <td>2730346.0</td>\n",
       "      <td>IRENE</td>\n",
       "      <td>IRENE</td>\n",
       "    </tr>\n",
       "    <tr>\n",
       "      <th>8</th>\n",
       "      <td>2689295.0</td>\n",
       "      <td>BENARD</td>\n",
       "      <td>BENARD</td>\n",
       "    </tr>\n",
       "    <tr>\n",
       "      <th>9</th>\n",
       "      <td>2542679.0</td>\n",
       "      <td>EDWARD WAMAI</td>\n",
       "      <td>EDWARD WAMAI</td>\n",
       "    </tr>\n",
       "    <tr>\n",
       "      <th>11</th>\n",
       "      <td>2089987.0</td>\n",
       "      <td>LUCY MWANGI</td>\n",
       "      <td>LUCY MWANGI</td>\n",
       "    </tr>\n",
       "  </tbody>\n",
       "</table>\n",
       "</div>"
      ],
      "text/plain": [
       "    customer_id          Name  Cleaned Name\n",
       "2     3208886.0        OLGA D        OLGA D\n",
       "5     2730346.0         IRENE         IRENE\n",
       "8     2689295.0        BENARD        BENARD\n",
       "9     2542679.0  EDWARD WAMAI  EDWARD WAMAI\n",
       "11    2089987.0   LUCY MWANGI   LUCY MWANGI"
      ]
     },
     "execution_count": 112,
     "metadata": {},
     "output_type": "execute_result"
    }
   ],
   "source": [
    "\n",
    "# Apply the truncate_names function to the 'Name' column\n",
    "df4['Cleaned Name'] = df4['Name'].apply(clean_name)\n",
    "df4.head()\n",
    "\n"
   ]
  },
  {
   "cell_type": "code",
   "execution_count": 113,
   "metadata": {},
   "outputs": [],
   "source": [
    "## preprocessing transforms\n",
    "dm_test = list(df4['Cleaned Name'])"
   ]
  },
  {
   "cell_type": "code",
   "execution_count": 115,
   "metadata": {},
   "outputs": [],
   "source": [
    "## vectorization\n",
    "\n",
    "dm_test = cv.fit_transform(dm_test).toarray()"
   ]
  },
  {
   "cell_type": "code",
   "execution_count": 116,
   "metadata": {},
   "outputs": [
    {
     "name": "stdout",
     "output_type": "stream",
     "text": [
      "Shape of dm_test: (644614, 27)\n",
      "Shape of df_train: (242960, 27)\n"
     ]
    }
   ],
   "source": [
    "## check shape of training vs test data\n",
    "# df_test2 = truncated_array\n",
    "print(\"Shape of dm_test:\", dm_test.shape)\n",
    "# print(\"Shape of truncated_array:\", truncated_array.shape)\n",
    "\n",
    "print(\"Shape of df_train:\", X.shape)"
   ]
  },
  {
   "cell_type": "markdown",
   "metadata": {},
   "source": [
    "##### Load and Run Saved model"
   ]
  },
  {
   "cell_type": "code",
   "execution_count": 117,
   "metadata": {},
   "outputs": [],
   "source": [
    "\n",
    "# Load the model from the file\n",
    "loaded_rf_model = joblib.load('rf_model2.pkl')\n",
    "\n",
    "# Make predictions using the ensemble model\n",
    "RF_y_pred2 = loaded_rf_model.predict(x_test)\n",
    "\n",
    "predictions2 = loaded_rf_model.predict(dm_test)"
   ]
  },
  {
   "cell_type": "code",
   "execution_count": 118,
   "metadata": {},
   "outputs": [
    {
     "data": {
      "text/html": [
       "<div>\n",
       "<style scoped>\n",
       "    .dataframe tbody tr th:only-of-type {\n",
       "        vertical-align: middle;\n",
       "    }\n",
       "\n",
       "    .dataframe tbody tr th {\n",
       "        vertical-align: top;\n",
       "    }\n",
       "\n",
       "    .dataframe thead th {\n",
       "        text-align: right;\n",
       "    }\n",
       "</style>\n",
       "<table border=\"1\" class=\"dataframe\">\n",
       "  <thead>\n",
       "    <tr style=\"text-align: right;\">\n",
       "      <th></th>\n",
       "      <th>customer_id</th>\n",
       "      <th>Cleaned Name</th>\n",
       "      <th>Predicted_Gender</th>\n",
       "    </tr>\n",
       "  </thead>\n",
       "  <tbody>\n",
       "    <tr>\n",
       "      <th>2</th>\n",
       "      <td>3208886.0</td>\n",
       "      <td>OLGA D</td>\n",
       "      <td>Male</td>\n",
       "    </tr>\n",
       "    <tr>\n",
       "      <th>5</th>\n",
       "      <td>2730346.0</td>\n",
       "      <td>IRENE</td>\n",
       "      <td>Female</td>\n",
       "    </tr>\n",
       "    <tr>\n",
       "      <th>8</th>\n",
       "      <td>2689295.0</td>\n",
       "      <td>BENARD</td>\n",
       "      <td>Male</td>\n",
       "    </tr>\n",
       "    <tr>\n",
       "      <th>9</th>\n",
       "      <td>2542679.0</td>\n",
       "      <td>EDWARD WAMAI</td>\n",
       "      <td>Male</td>\n",
       "    </tr>\n",
       "    <tr>\n",
       "      <th>11</th>\n",
       "      <td>2089987.0</td>\n",
       "      <td>LUCY MWANGI</td>\n",
       "      <td>Female</td>\n",
       "    </tr>\n",
       "  </tbody>\n",
       "</table>\n",
       "</div>"
      ],
      "text/plain": [
       "    customer_id  Cleaned Name Predicted_Gender\n",
       "2     3208886.0        OLGA D             Male\n",
       "5     2730346.0         IRENE           Female\n",
       "8     2689295.0        BENARD             Male\n",
       "9     2542679.0  EDWARD WAMAI             Male\n",
       "11    2089987.0   LUCY MWANGI           Female"
      ]
     },
     "execution_count": 118,
     "metadata": {},
     "output_type": "execute_result"
    }
   ],
   "source": [
    "predictions2 = predictions2.tolist()\n",
    "# customer_f_dt = customer_f_dt.reset_index(drop=True)\n",
    "\n",
    "cust_profile_predictions = pd.DataFrame({'customer_id': df4['customer_id'],'Cleaned Name': df4['Cleaned Name'],'Predicted_Gender': encoder.inverse_transform(predictions2)\n",
    "})\n",
    "cust_profile_predictions.head()\n"
   ]
  },
  {
   "cell_type": "code",
   "execution_count": 119,
   "metadata": {},
   "outputs": [
    {
     "data": {
      "text/plain": [
       "(644614, 3)"
      ]
     },
     "execution_count": 119,
     "metadata": {},
     "output_type": "execute_result"
    }
   ],
   "source": [
    "cust_profile_predictions.shape"
   ]
  },
  {
   "cell_type": "markdown",
   "metadata": {},
   "source": [
    "##### Append Predictions to Train data"
   ]
  },
  {
   "cell_type": "code",
   "execution_count": 120,
   "metadata": {},
   "outputs": [
    {
     "data": {
      "text/html": [
       "<div>\n",
       "<style scoped>\n",
       "    .dataframe tbody tr th:only-of-type {\n",
       "        vertical-align: middle;\n",
       "    }\n",
       "\n",
       "    .dataframe tbody tr th {\n",
       "        vertical-align: top;\n",
       "    }\n",
       "\n",
       "    .dataframe thead th {\n",
       "        text-align: right;\n",
       "    }\n",
       "</style>\n",
       "<table border=\"1\" class=\"dataframe\">\n",
       "  <thead>\n",
       "    <tr style=\"text-align: right;\">\n",
       "      <th></th>\n",
       "      <th>customer_id</th>\n",
       "      <th>Cleaned Name</th>\n",
       "      <th>Predicted_Gender</th>\n",
       "    </tr>\n",
       "  </thead>\n",
       "  <tbody>\n",
       "    <tr>\n",
       "      <th>0</th>\n",
       "      <td>3174531</td>\n",
       "      <td>DAMARIS WANGARI</td>\n",
       "      <td>Female</td>\n",
       "    </tr>\n",
       "    <tr>\n",
       "      <th>1</th>\n",
       "      <td>1111966</td>\n",
       "      <td>MARY NGLN</td>\n",
       "      <td>Female</td>\n",
       "    </tr>\n",
       "    <tr>\n",
       "      <th>2</th>\n",
       "      <td>1249576</td>\n",
       "      <td>AMIR</td>\n",
       "      <td>Male</td>\n",
       "    </tr>\n",
       "    <tr>\n",
       "      <th>3</th>\n",
       "      <td>841007</td>\n",
       "      <td>LEAH</td>\n",
       "      <td>Female</td>\n",
       "    </tr>\n",
       "    <tr>\n",
       "      <th>4</th>\n",
       "      <td>1657921</td>\n",
       "      <td>GRACE</td>\n",
       "      <td>Female</td>\n",
       "    </tr>\n",
       "  </tbody>\n",
       "</table>\n",
       "</div>"
      ],
      "text/plain": [
       "   customer_id     Cleaned Name Predicted_Gender\n",
       "0      3174531  DAMARIS WANGARI           Female\n",
       "1      1111966        MARY NGLN           Female\n",
       "2      1249576             AMIR             Male\n",
       "3       841007             LEAH           Female\n",
       "4      1657921            GRACE           Female"
      ]
     },
     "execution_count": 120,
     "metadata": {},
     "output_type": "execute_result"
    }
   ],
   "source": [
    "cust_prof_gender_predictions.head()"
   ]
  },
  {
   "cell_type": "code",
   "execution_count": 121,
   "metadata": {},
   "outputs": [
    {
     "data": {
      "text/plain": [
       "(900377, 3)"
      ]
     },
     "execution_count": 121,
     "metadata": {},
     "output_type": "execute_result"
    }
   ],
   "source": [
    "## append matched rows with dt\n",
    "all_cust_prof_data = pd.concat([cust_prof_gender_predictions,cust_profile_predictions],axis=0, ignore_index=True)\n",
    "all_cust_prof_data.shape"
   ]
  },
  {
   "cell_type": "code",
   "execution_count": 122,
   "metadata": {},
   "outputs": [
    {
     "data": {
      "text/html": [
       "<div>\n",
       "<style scoped>\n",
       "    .dataframe tbody tr th:only-of-type {\n",
       "        vertical-align: middle;\n",
       "    }\n",
       "\n",
       "    .dataframe tbody tr th {\n",
       "        vertical-align: top;\n",
       "    }\n",
       "\n",
       "    .dataframe thead th {\n",
       "        text-align: right;\n",
       "    }\n",
       "</style>\n",
       "<table border=\"1\" class=\"dataframe\">\n",
       "  <thead>\n",
       "    <tr style=\"text-align: right;\">\n",
       "      <th></th>\n",
       "      <th>customer_id</th>\n",
       "      <th>Cleaned Name</th>\n",
       "      <th>Predicted_Gender</th>\n",
       "    </tr>\n",
       "  </thead>\n",
       "  <tbody>\n",
       "    <tr>\n",
       "      <th>0</th>\n",
       "      <td>3174531.0</td>\n",
       "      <td>DAMARIS WANGARI</td>\n",
       "      <td>Female</td>\n",
       "    </tr>\n",
       "    <tr>\n",
       "      <th>1</th>\n",
       "      <td>1111966.0</td>\n",
       "      <td>MARY NGLN</td>\n",
       "      <td>Female</td>\n",
       "    </tr>\n",
       "    <tr>\n",
       "      <th>2</th>\n",
       "      <td>1249576.0</td>\n",
       "      <td>AMIR</td>\n",
       "      <td>Male</td>\n",
       "    </tr>\n",
       "    <tr>\n",
       "      <th>3</th>\n",
       "      <td>841007.0</td>\n",
       "      <td>LEAH</td>\n",
       "      <td>Female</td>\n",
       "    </tr>\n",
       "    <tr>\n",
       "      <th>4</th>\n",
       "      <td>1657921.0</td>\n",
       "      <td>GRACE</td>\n",
       "      <td>Female</td>\n",
       "    </tr>\n",
       "  </tbody>\n",
       "</table>\n",
       "</div>"
      ],
      "text/plain": [
       "   customer_id     Cleaned Name Predicted_Gender\n",
       "0    3174531.0  DAMARIS WANGARI           Female\n",
       "1    1111966.0        MARY NGLN           Female\n",
       "2    1249576.0             AMIR             Male\n",
       "3     841007.0             LEAH           Female\n",
       "4    1657921.0            GRACE           Female"
      ]
     },
     "execution_count": 122,
     "metadata": {},
     "output_type": "execute_result"
    }
   ],
   "source": [
    "all_cust_prof_data.head()"
   ]
  },
  {
   "cell_type": "code",
   "execution_count": 123,
   "metadata": {},
   "outputs": [
    {
     "data": {
      "text/plain": [
       "(872534, 3)"
      ]
     },
     "execution_count": 123,
     "metadata": {},
     "output_type": "execute_result"
    }
   ],
   "source": [
    "## Drop Duplicated records\n",
    "all_cust_prof_data.drop_duplicates(subset='customer_id', inplace=True)\n",
    "\n",
    "all_cust_prof_data.shape"
   ]
  },
  {
   "cell_type": "markdown",
   "metadata": {},
   "source": [
    "#### Visualize Gender Proportions"
   ]
  },
  {
   "cell_type": "code",
   "execution_count": 124,
   "metadata": {},
   "outputs": [
    {
     "name": "stdout",
     "output_type": "stream",
     "text": [
      "The proportion of one-word-names is: 52.68%\n"
     ]
    }
   ],
   "source": [
    "  ## proportion of one-word names\n",
    "one_word_names4 = round(count_one_word_names(all_cust_prof_data['Cleaned Name'])/len(all_cust_prof_data)*100,2)\n",
    "\n",
    "print(f\"The proportion of one-word-names is: {one_word_names4}%\")"
   ]
  },
  {
   "cell_type": "code",
   "execution_count": 125,
   "metadata": {},
   "outputs": [
    {
     "data": {
      "text/plain": [
       "Female    514791\n",
       "Male      357743\n",
       "Name: Predicted_Gender, dtype: int64"
      ]
     },
     "execution_count": 125,
     "metadata": {},
     "output_type": "execute_result"
    }
   ],
   "source": [
    "# %%\n",
    "all_cust_prof_data['Predicted_Gender'].value_counts()"
   ]
  },
  {
   "cell_type": "code",
   "execution_count": 126,
   "metadata": {},
   "outputs": [
    {
     "data": {
      "image/png": "[encoded data removed]",
      "text/plain": [
       "<Figure size 640x480 with 1 Axes>"
      ]
     },
     "metadata": {},
     "output_type": "display_data"
    }
   ],
   "source": [
    "## plot for male and female names in the data\n",
    "import seaborn as sns\n",
    "import matplotlib.pyplot as plt\n",
    "\n",
    "# Create the countplot\n",
    "ax = sns.countplot(x='Predicted_Gender', data=all_cust_prof_data)\n",
    "\n",
    "# Calculate the total count for each category\n",
    "total_counts = all_cust_prof_data['Predicted_Gender'].value_counts()\n",
    "\n",
    "# Calculate the proportions for each category\n",
    "proportions = total_counts / total_counts.sum()\n",
    "\n",
    "# Sort the counts and proportions in descending order\n",
    "sorted_counts = total_counts.sort_values(ascending=False)\n",
    "sorted_proportions = proportions.loc[sorted_counts.index]\n",
    "\n",
    "# Add the proportions as annotations\n",
    "for i, p in enumerate(ax.patches):\n",
    "    x = p.get_x() + p.get_width() / 2\n",
    "    y = p.get_height()\n",
    "    label = f\"{sorted_proportions[i]:.2%}\"\n",
    "    ax.annotate(label, (x, y), ha='center', va='bottom')\n",
    "\n",
    "# Set the title and x-axis tick labels\n",
    "plt.title('No of male and female names in the dataset')\n",
    "plt.xticks(ticks=[0, 1], labels=['Female', 'Male'])\n",
    "\n",
    "# Display the plot\n",
    "plt.show()\n",
    "\n"
   ]
  },
  {
   "cell_type": "markdown",
   "metadata": {},
   "source": [
    "#### Output Predictions"
   ]
  },
  {
   "cell_type": "code",
   "execution_count": 127,
   "metadata": {},
   "outputs": [],
   "source": [
    "## duplicate data for checking additional rows\n",
    "current_run = all_cust_prof_data\n"
   ]
  },
  {
   "cell_type": "code",
   "execution_count": 128,
   "metadata": {},
   "outputs": [],
   "source": [
    "## output predicted genders\n",
    "all_cust_prof_data.to_csv('../../Njambanene/Tasks/Name_Identification/KOKO Users -Name based Gender Classification.csv',index=False)"
   ]
  },
  {
   "cell_type": "code",
   "execution_count": 129,
   "metadata": {},
   "outputs": [],
   "source": [
    "# Create a new data set in Domo with the result, the return value is the data set id of the new data set.\n",
    "# all_cust_prof_data = domo.ds_create(all_cust_prof_data,'Customer Gender Dataset','Python')\n",
    "## previously created dataset\n",
    "all_cust_prof_data_prev = domo.ds_get('378b0d4e-1f77-4e7d-b4f0-cb62d974e550')\n"
   ]
  },
  {
   "cell_type": "code",
   "execution_count": 130,
   "metadata": {},
   "outputs": [],
   "source": [
    "# all_cust_prof_data = pd.read_csv('../../Njambanene/Tasks/Name_Identification/KOKO Users -Name based Gender Classification.csv')\n",
    "## Check for additional rows\n",
    "current_rows = current_run.shape[0]\n",
    "previous_rows = all_cust_prof_data_prev.shape[0]\n",
    "\n"
   ]
  },
  {
   "cell_type": "code",
   "execution_count": 131,
   "metadata": {},
   "outputs": [
    {
     "name": "stdout",
     "output_type": "stream",
     "text": [
      "There are 508 additional rows in the current dataset.\n"
     ]
    }
   ],
   "source": [
    "# Compare the number of rows\n",
    "if current_rows > previous_rows:\n",
    "    additional_rows = current_rows - previous_rows\n",
    "    print(f\"There are {additional_rows} additional rows in the current dataset.\")\n",
    "else:\n",
    "    print(\"No additional rows have been added to the dataset.\")"
   ]
  },
  {
   "cell_type": "code",
   "execution_count": 132,
   "metadata": {},
   "outputs": [],
   "source": [
    "## update the previously created dataset\n",
    "\n",
    "all_cust_prof_data = domo.ds_update('378b0d4e-1f77-4e7d-b4f0-cb62d974e550',current_run)"
   ]
  },
  {
   "cell_type": "code",
   "execution_count": 133,
   "metadata": {},
   "outputs": [
    {
     "name": "stdout",
     "output_type": "stream",
     "text": [
      "Elapsed time: 8.0 minutes\n"
     ]
    }
   ],
   "source": [
    "# End the timer\n",
    "end_time = time.time()\n",
    "\n",
    "# Calculate the elapsed time\n",
    "elapsed_time = end_time - start_time\n",
    "\n",
    "# Print the elapsed time\n",
    "print(\"Elapsed time:\", round(elapsed_time/60,0), \"minutes\")"
   ]
  },
  {
   "cell_type": "markdown",
   "metadata": {
    "tags": []
   },
   "source": [
    "#### Notes:\n",
    "Although we were able to predict the gender of majority of the names accurately with ~96% accuracy, below are are some disclaimers that influenced the accuracy of the model:\n",
    "1. One-Word Names: There was a significant number of one word names both in the training set (~63%) and the test data (~50%) that reduces the ability to predict gender accurately as some names can be in either genders.\n",
    "2. Data Bias and Representation: There is a potential bias in the training data used to develop the model as female customers was ~60%  of the data. As such the model's predictions may reflect the biases present in the data, such as underrepresentation or overrepresentation.\n",
    "3. Name complexity: Due to the limitation of the model processing only three names for a customer (at most), there is a possibility of incorrect predictions if two of the names could potentially belong to both male and female genders individually.\n",
    "4. Third Gender Representation: It's important to note that the model does not consider gender-fluid or non-binary individuals. Instead, it primarily categorizes names into male or female genders and predicts the gender that is most commonly associated with a given name. This means that the model may not accurately represent or predict the gender for individuals who identify as gender-fluid or non-binary.\n",
    "5. Name Ambiguity and Variability: Some names had numbers, names of places e.g. shops, special characters as well aliases that were dropped during name clean up. More-over some names can be gender-neutral or may have varying associations across different cultures, hence the model may be inaccurate in such instances. Names that are used for both males and females can introduce ambiguity in the model's predictions.\n",
    "6. Typos: Some names are clearly typos at point of collection hence the model is likely to make a prediction on a wrong name.\n",
    " "
   ]
  },
  {
   "cell_type": "code",
   "execution_count": null,
   "metadata": {},
   "outputs": [],
   "source": [
    "## create a function based on ner (pre-trained named entity recognition (NER) model) for name-checking \n",
    "# import spacy\n",
    "\n",
    "# def is_name(word):\n",
    "#     # Load the pre-trained English NER model from spaCy\n",
    "#     nlp = spacy.load('en_core_web_sm')\n",
    "    \n",
    "#     # Process the word with the NER model\n",
    "#     doc = nlp(word)\n",
    "    \n",
    "#     # Check if any entity in the word is classified as a person (PERSON)\n",
    "#     return any(ent.label_ == 'PERSON' for ent in doc.ents)\n",
    "\n"
   ]
  }
 ],
 "metadata": {
  "kernelspec": {
   "display_name": "Python 3",
   "language": "python",
   "name": "python3"
  },
  "language_info": {
   "codemirror_mode": {
    "name": "ipython",
    "version": 3
   },
   "file_extension": ".py",
   "mimetype": "text/x-python",
   "name": "python",
   "nbconvert_exporter": "python",
   "pygments_lexer": "ipython3",
   "version": "3.11.2"
  },
  "orig_nbformat": 4
 },
 "nbformat": 4,
 "nbformat_minor": 2
}
